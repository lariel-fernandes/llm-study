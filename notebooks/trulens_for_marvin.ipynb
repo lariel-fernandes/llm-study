{
 "cells": [
  {
   "cell_type": "code",
   "execution_count": 1,
   "id": "f86eec44-8a59-462e-a7a6-c2484d08fc7d",
   "metadata": {},
   "outputs": [],
   "source": [
    "from typing import Type\n",
    "\n",
    "from marvin import ai_model\n",
    "from marvin.engine.language_models.openai import OpenAIChatLLM\n",
    "from pydantic import BaseModel, Field\n",
    "from trulens_eval import Tru\n",
    "from llm_study.trulens_freeform import FreeFormApp"
   ]
  },
  {
   "cell_type": "code",
   "execution_count": 2,
   "id": "08aeea3b-e155-446c-9f50-a1c3ee57854f",
   "metadata": {},
   "outputs": [
    {
     "name": "stdout",
     "output_type": "stream",
     "text": [
      "Force stopping dashboard ...\n",
      "Starting dashboard ...\n"
     ]
    },
    {
     "data": {
      "application/vnd.jupyter.widget-view+json": {
       "model_id": "b5f33a42cd544501822e408d17696adb",
       "version_major": 2,
       "version_minor": 0
      },
      "text/plain": [
       "Accordion(children=(VBox(children=(VBox(children=(Label(value='STDOUT'), Output())), VBox(children=(Label(valu…"
      ]
     },
     "metadata": {},
     "output_type": "display_data"
    },
    {
     "name": "stdout",
     "output_type": "stream",
     "text": [
      "Dashboard started at http://192.168.178.30:8501 .\n"
     ]
    },
    {
     "data": {
      "text/plain": [
       "<Popen: returncode: None args: ['streamlit', 'run', '--server.headless=True'...>"
      ]
     },
     "execution_count": 2,
     "metadata": {},
     "output_type": "execute_result"
    }
   ],
   "source": [
    "Tru().start_dashboard(force=True)"
   ]
  },
  {
   "cell_type": "code",
   "execution_count": 3,
   "id": "0353b208-7db0-4727-8718-53fdbe097727",
   "metadata": {},
   "outputs": [],
   "source": [
    "def trulens_for_marvin(**kwargs):\n",
    "    def decorator(model: Type[BaseModel]):\n",
    "        return FreeFormApp(model, app_id=model.__name__, db=Tru().db, **kwargs)\n",
    "    return decorator"
   ]
  },
  {
   "cell_type": "code",
   "execution_count": 6,
   "id": "59cc143f-c521-4fd7-a2df-9ee7fba7d465",
   "metadata": {},
   "outputs": [
    {
     "name": "stdout",
     "output_type": "stream",
     "text": [
      "✅ app Location -> default.sqlite\n"
     ]
    }
   ],
   "source": [
    "@trulens_for_marvin(tags=\"http://192.168.178.30:8501,http://192.168.178.30:8501\")\n",
    "@ai_model(model=OpenAIChatLLM())\n",
    "class Location(BaseModel):\n",
    "    city: str = Field(..., description=\"City name in snake case format\\nExample: New Jersey -> new_jersey\")\n",
    "    state: str = Field(..., description=\"The two-letter state abbreviation\")"
   ]
  },
  {
   "cell_type": "code",
   "execution_count": 7,
   "id": "8b9eda3e-0313-470f-8f9a-a448a261dfcd",
   "metadata": {},
   "outputs": [
    {
     "data": {
      "text/plain": [
       "Location(city='new_york', state='')"
      ]
     },
     "execution_count": 7,
     "metadata": {},
     "output_type": "execute_result"
    },
    {
     "name": "stdout",
     "output_type": "stream",
     "text": [
      "✅ record record_hash_c4b5bb357cd3fdfd85bff26f21fbb9d2 from Location -> default.sqlite\n"
     ]
    }
   ],
   "source": [
    "Location(\"the big apple\")"
   ]
  },
  {
   "cell_type": "code",
   "execution_count": null,
   "id": "c98fd7f2-7426-424a-b332-69d74876bd03",
   "metadata": {},
   "outputs": [],
   "source": []
  }
 ],
 "metadata": {
  "kernelspec": {
   "display_name": "Python 3 (ipykernel)",
   "language": "python",
   "name": "python3"
  },
  "language_info": {
   "codemirror_mode": {
    "name": "ipython",
    "version": 3
   },
   "file_extension": ".py",
   "mimetype": "text/x-python",
   "name": "python",
   "nbconvert_exporter": "python",
   "pygments_lexer": "ipython3",
   "version": "3.9.17"
  }
 },
 "nbformat": 4,
 "nbformat_minor": 5
}
