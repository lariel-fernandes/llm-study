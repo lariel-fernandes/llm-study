{
 "cells": [
  {
   "cell_type": "code",
   "execution_count": 1,
   "id": "f86eec44-8a59-462e-a7a6-c2484d08fc7d",
   "metadata": {},
   "outputs": [],
   "source": [
    "from typing import Type\n",
    "\n",
    "from marvin import ai_model\n",
    "from marvin.engine.language_models.openai import OpenAIChatLLM\n",
    "from pydantic import BaseModel, Field\n",
    "from trulens_eval import Tru, Feedback, Select\n",
    "from llm_study.trulens_freeform import FreeFormApp\n",
    "from llm_study.trulens_for_marvin import trulens_for_marvin\n",
    "from llm_study.trulens_feedbacks import Compare"
   ]
  },
  {
   "cell_type": "code",
   "execution_count": 2,
   "id": "08aeea3b-e155-446c-9f50-a1c3ee57854f",
   "metadata": {},
   "outputs": [
    {
     "name": "stdout",
     "output_type": "stream",
     "text": [
      "Force stopping dashboard ...\n",
      "Starting dashboard ...\n"
     ]
    },
    {
     "data": {
      "application/vnd.jupyter.widget-view+json": {
       "model_id": "5f01ad05dd8a435db4f7ac9364f82381",
       "version_major": 2,
       "version_minor": 0
      },
      "text/plain": [
       "Accordion(children=(VBox(children=(VBox(children=(Label(value='STDOUT'), Output())), VBox(children=(Label(valu…"
      ]
     },
     "metadata": {},
     "output_type": "display_data"
    },
    {
     "name": "stdout",
     "output_type": "stream",
     "text": [
      "Dashboard started at http://192.168.178.30:8501 .\n"
     ]
    },
    {
     "data": {
      "text/plain": [
       "<Popen: returncode: None args: ['streamlit', 'run', '--server.headless=True'...>"
      ]
     },
     "execution_count": 2,
     "metadata": {},
     "output_type": "execute_result"
    }
   ],
   "source": [
    "Tru().start_dashboard(force=True)"
   ]
  },
  {
   "cell_type": "code",
   "execution_count": 3,
   "id": "3611e37a-b05c-4336-a36f-66a4171e98f2",
   "metadata": {},
   "outputs": [],
   "source": [
    "f_equals = Feedback(Compare().equals) \\\n",
    "    .on(actual=Select.RecordOutput) \\\n",
    "    .on(expected=Select.RecordInput.__expected__)"
   ]
  },
  {
   "cell_type": "code",
   "execution_count": 4,
   "id": "59cc143f-c521-4fd7-a2df-9ee7fba7d465",
   "metadata": {},
   "outputs": [
    {
     "name": "stdout",
     "output_type": "stream",
     "text": [
      "✅ app TrulensForMarvin[Location] -> default.sqlite\n",
      "✅ feedback def. feedback_definition_hash_4f7f2edd2f7ecb7acfc057c8df7c7f67 -> default.sqlite\n"
     ]
    }
   ],
   "source": [
    "@trulens_for_marvin(tags=\"marvin\", feedbacks=[f_equals])\n",
    "@ai_model(model=OpenAIChatLLM())\n",
    "class Location(BaseModel):\n",
    "    city: str = Field(..., description=\"City name in snake case format\\nExample: New Jersey -> new_jersey\")\n",
    "    state: str = Field(..., description=\"The two-letter state abbreviation\")"
   ]
  },
  {
   "cell_type": "code",
   "execution_count": 5,
   "id": "f469563e-a60a-4695-ab5f-2928b8fd8262",
   "metadata": {},
   "outputs": [
    {
     "data": {
      "text/plain": [
       "TrulensForMarvin[Location]"
      ]
     },
     "execution_count": 5,
     "metadata": {},
     "output_type": "execute_result"
    }
   ],
   "source": [
    "Location"
   ]
  },
  {
   "cell_type": "code",
   "execution_count": 6,
   "id": "8b9eda3e-0313-470f-8f9a-a448a261dfcd",
   "metadata": {},
   "outputs": [
    {
     "data": {
      "text/plain": [
       "Location(city='new_york', state='NY')"
      ]
     },
     "execution_count": 6,
     "metadata": {},
     "output_type": "execute_result"
    }
   ],
   "source": [
    "Location(\"the big apple\", __expected__=Location.model.construct(city='new_york', state='NY'))"
   ]
  }
 ],
 "metadata": {
  "kernelspec": {
   "display_name": "Python 3 (ipykernel)",
   "language": "python",
   "name": "python3"
  },
  "language_info": {
   "codemirror_mode": {
    "name": "ipython",
    "version": 3
   },
   "file_extension": ".py",
   "mimetype": "text/x-python",
   "name": "python",
   "nbconvert_exporter": "python",
   "pygments_lexer": "ipython3",
   "version": "3.9.17"
  }
 },
 "nbformat": 4,
 "nbformat_minor": 5
}
