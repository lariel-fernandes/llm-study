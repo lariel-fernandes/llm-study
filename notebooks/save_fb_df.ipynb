{
 "cells": [
  {
   "cell_type": "code",
   "execution_count": 1,
   "id": "13d18a28-0778-40e6-a23b-3140fd462775",
   "metadata": {},
   "outputs": [
    {
     "name": "stdout",
     "output_type": "stream",
     "text": [
      "Force stopping dashboard ...\n",
      "Starting dashboard ...\n"
     ]
    },
    {
     "data": {
      "application/vnd.jupyter.widget-view+json": {
       "model_id": "a78975d5287848c8b5002c1bb981a670",
       "version_major": 2,
       "version_minor": 0
      },
      "text/plain": [
       "Accordion(children=(VBox(children=(VBox(children=(Label(value='STDOUT'), Output())), VBox(children=(Label(valu…"
      ]
     },
     "metadata": {},
     "output_type": "display_data"
    },
    {
     "name": "stdout",
     "output_type": "stream",
     "text": [
      "Dashboard started at http://192.168.178.30:8501 .\n",
      "✅ In not_toxic, input text will be set to *.__record__.main_output or `Select.RecordOutput` .\n",
      "✅ app JokeTeller-v1 -> default.sqlite\n",
      "✅ feedback def. feedback_definition_hash_d16412e7b625be7dc68cec905012a209 -> default.sqlite\n"
     ]
    },
    {
     "data": {
      "text/plain": [
       "{'adjective': 'absurd',\n",
       " 'subject': 'goose',\n",
       " 'text': '\\n\\nQ: Why did the goose cross the playground?\\nA: To get to the other slide!'}"
      ]
     },
     "execution_count": 1,
     "metadata": {},
     "output_type": "execute_result"
    }
   ],
   "source": [
    "import time\n",
    "import pandas as pd\n",
    "from langchain import LLMChain, PromptTemplate, OpenAI\n",
    "from trulens_eval import Tru, TruChain, Feedback, Huggingface\n",
    "\n",
    "# Start the local dashboard. The URL will be printed so you can access it in your browser.\n",
    "Tru().start_dashboard(force=True)\n",
    "\n",
    "# Define your LangChain App\n",
    "my_chain = LLMChain(\n",
    "    llm=OpenAI(model=\"text-davinci-003\", temperature=0.7),\n",
    "    prompt=PromptTemplate.from_template(\"Tell a {adjective} joke about {subject}\")\n",
    ")\n",
    "\n",
    "# Define your feedbacks\n",
    "f_not_toxic = Feedback(Huggingface().not_toxic).on_output()\n",
    "\n",
    "# Wrap your App with TruChain\n",
    "tru_chain = TruChain(\n",
    "    app=my_chain,\n",
    "    app_id=\"JokeTeller-v1\",\n",
    "\tmetadata={\"model_url\": \"http://192.168.178.30:8502\", \"run_url\": \"two\"},\n",
    "    feedbacks=[f_not_toxic],\n",
    "    tags=\"run_id\"\n",
    ")\n",
    "\n",
    "# Make calls to your App as usual\n",
    "tru_chain(inputs={\"adjective\": \"absurd\", \"subject\": \"goose\"})"
   ]
  },
  {
   "cell_type": "code",
   "execution_count": 2,
   "id": "952591b5-63ef-4023-a5e0-27dfc5b6c97c",
   "metadata": {},
   "outputs": [],
   "source": [
    "import time\n",
    "from trulens_eval.app import App\n",
    "from trulens_eval.schema import FeedbackResultStatus, Record\n",
    "\n",
    "class FetchFeedback:\n",
    "\n",
    "    def __init__(self, app: App, max_attempts: int = 5, sleep_sec: int = 1):\n",
    "        self.db = Tru().db\n",
    "        self.fb_count = len(app.feedbacks)\n",
    "        self.max_attempts = max_attempts\n",
    "        self.sleep_sec = sleep_sec\n",
    "\n",
    "    def __call__(self, record: Record) -> pd.DataFrame:\n",
    "        for _ in range(self.max_attempts):\n",
    "            df = self.db.get_feedback(\n",
    "                record_id=record.record_id,\n",
    "                status=[FeedbackResultStatus.DONE, FeedbackResultStatus.FAILED]\n",
    "            )\n",
    "            if len(df) >= self.fb_count:\n",
    "                return df[[\"fname\", \"result\"]] \\\n",
    "                    .pivot_table(columns=\"fname\", values=[\"result\"]) \\\n",
    "                    .rename_axis(None, axis=1)\n",
    "            time.sleep(self.sleep_sec)\n",
    "        raise RuntimeError(f\"{self.__class__} timeout after {self.max_attempts} attempts\")"
   ]
  },
  {
   "cell_type": "code",
   "execution_count": 3,
   "id": "98943504-b624-42db-aaa5-37a276be30f3",
   "metadata": {},
   "outputs": [
    {
     "name": "stdout",
     "output_type": "stream",
     "text": [
      "✅ record record_hash_d0626c3ea16a7c9ef3e3fe364c0aa9df from JokeTeller-v1 -> default.sqlite\n",
      "✅ feedback feedback_result_hash_eb0b78456aa7cfaf7b690e7b21d2e9c2 on record_hash_d0626c3ea16a7c9ef3e3fe364c0aa9df -> default.sqlite\n",
      "✅ record record_hash_7e192ead2b349e24d1a88b9303e9d5b6 from JokeTeller-v1 -> default.sqlite\n",
      "✅ feedback feedback_result_hash_99d97097706ca7670249703d5dcf2c18 on record_hash_7e192ead2b349e24d1a88b9303e9d5b6 -> default.sqlite\n",
      "✅ record record_hash_6cdc976658ea458ba108722792d1cabc from JokeTeller-v1 -> default.sqlite\n",
      "✅ feedback feedback_result_hash_6ca12373d74f9b1110aadb21c6d6f8d4 on record_hash_6cdc976658ea458ba108722792d1cabc -> default.sqlite\n"
     ]
    },
    {
     "data": {
      "text/html": [
       "<div>\n",
       "<style scoped>\n",
       "    .dataframe tbody tr th:only-of-type {\n",
       "        vertical-align: middle;\n",
       "    }\n",
       "\n",
       "    .dataframe tbody tr th {\n",
       "        vertical-align: top;\n",
       "    }\n",
       "\n",
       "    .dataframe thead th {\n",
       "        text-align: right;\n",
       "    }\n",
       "</style>\n",
       "<table border=\"1\" class=\"dataframe\">\n",
       "  <thead>\n",
       "    <tr style=\"text-align: right;\">\n",
       "      <th></th>\n",
       "      <th>adjective</th>\n",
       "      <th>subject</th>\n",
       "      <th>text</th>\n",
       "      <th>not_toxic</th>\n",
       "    </tr>\n",
       "  </thead>\n",
       "  <tbody>\n",
       "    <tr>\n",
       "      <th>0</th>\n",
       "      <td>sad</td>\n",
       "      <td>duck</td>\n",
       "      <td>\\n\\nQ: Why did the duck go to the therapist?\\n...</td>\n",
       "      <td>0.034993</td>\n",
       "    </tr>\n",
       "    <tr>\n",
       "      <th>1</th>\n",
       "      <td>absurd</td>\n",
       "      <td>goose</td>\n",
       "      <td>\\n\\nQ: What did the baby goose say when it was...</td>\n",
       "      <td>0.008590</td>\n",
       "    </tr>\n",
       "  </tbody>\n",
       "</table>\n",
       "</div>"
      ],
      "text/plain": [
       "  adjective subject                                               text  \\\n",
       "0       sad    duck  \\n\\nQ: Why did the duck go to the therapist?\\n...   \n",
       "1    absurd   goose  \\n\\nQ: What did the baby goose say when it was...   \n",
       "\n",
       "   not_toxic  \n",
       "0   0.034993  \n",
       "1   0.008590  "
      ]
     },
     "execution_count": 3,
     "metadata": {},
     "output_type": "execute_result"
    }
   ],
   "source": [
    "dataset = [\n",
    "    {\"adjective\": \"sad\", \"subject\": \"duck\"},\n",
    "    {\"adjective\": \"absurd\", \"subject\": \"goose\"},\n",
    "]\n",
    "\n",
    "results, records = zip(*[\n",
    "    tru_chain.call_with_record(inputs)\n",
    "    for inputs in dataset\n",
    "])\n",
    "\n",
    "fetch_fb = FetchFeedback(app=tru_chain)\n",
    "\n",
    "df_results = pd.DataFrame(results)\n",
    "\n",
    "df_feedback = pd.concat([fetch_fb(r) for r in records]).reset_index(drop=True)\n",
    "\n",
    "pd.concat([df_results, df_feedback], axis=1)"
   ]
  },
  {
   "cell_type": "code",
   "execution_count": null,
   "id": "f397f43c-360a-42c9-9784-e72472001aec",
   "metadata": {},
   "outputs": [],
   "source": []
  }
 ],
 "metadata": {
  "kernelspec": {
   "display_name": "Python 3 (ipykernel)",
   "language": "python",
   "name": "python3"
  },
  "language_info": {
   "codemirror_mode": {
    "name": "ipython",
    "version": 3
   },
   "file_extension": ".py",
   "mimetype": "text/x-python",
   "name": "python",
   "nbconvert_exporter": "python",
   "pygments_lexer": "ipython3",
   "version": "3.9.17"
  }
 },
 "nbformat": 4,
 "nbformat_minor": 5
}
