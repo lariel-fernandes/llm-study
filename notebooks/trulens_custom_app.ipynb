{
 "cells": [
  {
   "cell_type": "code",
   "execution_count": 12,
   "id": "1ba92031-830e-420f-9d43-7f88cda29feb",
   "metadata": {},
   "outputs": [],
   "source": [
    "from trulens_eval.app import App\n",
    "from typing import Any, Callable, ClassVar\n",
    "from pydantic import Field\n",
    "from trulens_eval.tru_basic_app import TruWrapperApp\n",
    "from trulens_eval.util import FunctionOrMethod\n",
    "from trulens_eval.instruments import Instrument"
   ]
  },
  {
   "cell_type": "code",
   "execution_count": 13,
   "id": "6e24c1da-bb12-4fdc-a394-98d83071731d",
   "metadata": {},
   "outputs": [],
   "source": [
    "class FreeFormCallableInstrument(Instrument):\n",
    "\n",
    "    class Default:\n",
    "        CLASSES = lambda: {TruWrapperApp}\n",
    "        METHODS = {\"_call\": lambda o: isinstance(o, TruWrapperApp)}\n",
    "\n",
    "    def __init__(self):\n",
    "        super().__init__(\n",
    "            root_method=FreeFormApp.call_with_record,\n",
    "            classes=FreeFormCallableInstrument.Default.CLASSES(),\n",
    "            methods=FreeFormCallableInstrument.Default.METHODS\n",
    "        )"
   ]
  },
  {
   "cell_type": "code",
   "execution_count": 15,
   "id": "6af83383-633e-47b4-8fad-ad2a4042c23f",
   "metadata": {},
   "outputs": [],
   "source": [
    "class FreeFormApp(App):\n",
    "\n",
    "    app: TruWrapperApp\n",
    "\n",
    "    root_callable: ClassVar[FunctionOrMethod] = Field(\n",
    "        default_factory=lambda: FunctionOrMethod.of_callable(TruBasicApp._call),\n",
    "        const=True\n",
    "    )\n",
    "\n",
    "    def __init__(self, fn: Callable, **kwargs):\n",
    "        super().update_forward_refs()\n",
    "        app = TruWrapperApp(fn)\n",
    "        kwargs['app'] = app\n",
    "        kwargs['root_class'] = Class.of_object(app)\n",
    "        kwargs['instrument'] = FreeFormCallableInstrument()\n",
    "        super().__init__(**kwargs)\n",
    "\n",
    "    def call_with_record(self, inputs: dict):\n",
    "        # Wrapped calls will look this up by traversing the call stack. This\n",
    "        # should work with threads.\n",
    "        record: Sequence[RecordAppCall] = []\n",
    "\n",
    "        ret = None\n",
    "        error = None\n",
    "\n",
    "        cost: Cost = Cost()\n",
    "\n",
    "        start_time = None\n",
    "        end_time = None\n",
    "\n",
    "        try:\n",
    "            start_time = datetime.now()\n",
    "            ret, cost = Endpoint.track_all_costs_tally(\n",
    "                lambda: self.app._call(input, **kwargs)\n",
    "            )\n",
    "            print(record)\n",
    "            end_time = datetime.now()\n",
    "\n",
    "        except BaseException as e:\n",
    "            end_time = datetime.now()\n",
    "            error = e\n",
    "            logger.error(f\"App raised an exception: {e}\")\n",
    "\n",
    "        assert len(record) > 0, \"No information recorded in call.\"\n",
    "\n",
    "        ret_record_args = dict()\n",
    "\n",
    "        ret_record_args['main_input'] = input\n",
    "        if ret is not None:\n",
    "            ret_record_args['main_output'] = ret\n",
    "\n",
    "        ret_record = self._post_record(\n",
    "            ret_record_args, error, cost, start_time, end_time, record\n",
    "        )\n",
    "\n",
    "        return ret, ret_record"
   ]
  },
  {
   "cell_type": "code",
   "execution_count": null,
   "id": "3495d706-5bb6-43d1-9302-29c1dad81460",
   "metadata": {},
   "outputs": [],
   "source": [
    "def construct(text: )"
   ]
  },
  {
   "cell_type": "code",
   "execution_count": null,
   "id": "40653237-9dc5-4636-9ca5-53369127789c",
   "metadata": {},
   "outputs": [],
   "source": [
    "FreeFormApp"
   ]
  }
 ],
 "metadata": {
  "kernelspec": {
   "display_name": "Python 3 (ipykernel)",
   "language": "python",
   "name": "python3"
  },
  "language_info": {
   "codemirror_mode": {
    "name": "ipython",
    "version": 3
   },
   "file_extension": ".py",
   "mimetype": "text/x-python",
   "name": "python",
   "nbconvert_exporter": "python",
   "pygments_lexer": "ipython3",
   "version": "3.9.17"
  }
 },
 "nbformat": 4,
 "nbformat_minor": 5
}
