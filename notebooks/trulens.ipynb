{
 "cells": [
  {
   "cell_type": "code",
   "execution_count": null,
   "id": "61aee9af-4e98-436f-b57c-b66e7b2c75bc",
   "metadata": {},
   "outputs": [],
   "source": [
    "from trulens_eval import TruChain, Feedback, Huggingface, Tru, Select, OpenAI as OpenAIFeedback\n",
    "from llm_study import SceneSummarizer, SpeechAction, KnowledgeSummarizer, KnowledgeDocTypes\n",
    "from langchain.llms.openai import OpenAI\n",
    "from langchain.schema import AgentAction, Document\n",
    "from langchain import PromptTemplate, LLMChain\n",
    "import textwrap\n",
    "from langchain.chains.summarize import load_summarize_chain\n",
    "from trulens_eval.schema import FeedbackDefinition\n",
    "from typing import Sequence, Dict\n",
    "from langchain.callbacks.manager import CallbackManagerForChainRun, CallbackManagerForLLMRun\n",
    "from langchain.prompts.example_selector import LengthBasedExampleSelector\n",
    "from langchain.prompts import FewShotPromptTemplate\n",
    "from trulens_eval.feedback import Groundedness\n",
    "from trulens_eval.util import JSONPath, Step\n",
    "from typing import Optional, Sequence, Callable, Any, List\n",
    "from pydantic import Field\n",
    "from abc import ABC, abstractmethod\n",
    "from langchain.chains.base import Chain\n",
    "from pydantic import BaseModel\n",
    "from trulens_eval.util import SerialModel\n",
    "from langchain.callbacks.manager import CallbackManagerForChainRun\n",
    "from trulens_eval.app import App\n",
    "from trulens_eval.tru_basic_app import TruBasicApp\n",
    "from langchain.llms import BaseLLM\n",
    "from langchain.schema import LLMResult, Generation"
   ]
  },
  {
   "cell_type": "code",
   "execution_count": null,
   "id": "943f6242-0f1e-4a6a-8cd7-200b3e99d0f2",
   "metadata": {},
   "outputs": [],
   "source": []
  },
  {
   "cell_type": "code",
   "execution_count": null,
   "id": "b2cc8f14-f722-4193-997a-c9b54d7036b2",
   "metadata": {},
   "outputs": [],
   "source": []
  },
  {
   "cell_type": "code",
   "execution_count": 2,
   "id": "aef143aa-a7aa-47e0-9681-cb9defa4d197",
   "metadata": {},
   "outputs": [
    {
     "name": "stdout",
     "output_type": "stream",
     "text": [
      "✅ In my_feedback_func, input prompt will be set to *.__app__.app.prompt.template .\n",
      "✅ In my_feedback_func, input inputs will be set to *.__record__.app._call.args.inputs .\n",
      "✅ app test -> default.sqlite\n",
      "✅ feedback def. feedback_definition_hash_00f76504ae7952a6176c8ed0ccb1c214 -> default.sqlite\n"
     ]
    },
    {
     "data": {
      "text/plain": [
       "{'adjective': 'sad', 'subject': 'ducks', 'text': 'Tell a sad joke about ducks'}"
      ]
     },
     "execution_count": 2,
     "metadata": {},
     "output_type": "execute_result"
    },
    {
     "name": "stderr",
     "output_type": "stream",
     "text": [
      "Feedback Function Exception Caught: Traceback (most recent call last):\n",
      "  File \"/home/lariel/workspace/llm-study/.venv/lib/python3.9/site-packages/trulens_eval/feedback.py\", line 862, in run\n",
      "    feedback_call = FeedbackCall(\n",
      "  File \"pydantic/main.py\", line 341, in pydantic.main.BaseModel.__init__\n",
      "pydantic.error_wrappers.ValidationError: 1 validation error for FeedbackCall\n",
      "args -> inputs\n",
      "  str type expected (type=type_error.str)\n",
      "\n"
     ]
    },
    {
     "name": "stdout",
     "output_type": "stream",
     "text": [
      "✅ record record_hash_963dc63d23710a3ad4cae1cd7cdd367e from test -> default.sqlite\n",
      "⏰ feedback feedback_result_hash_a80631eca88622a8e91fddcc5fc36dd5 on record_hash_963dc63d23710a3ad4cae1cd7cdd367e -> default.sqlite\n"
     ]
    }
   ],
   "source": [
    "from typing import List, Any\n",
    "from langchain import LLMChain, PromptTemplate\n",
    "from langchain.llms import BaseLLM\n",
    "from langchain.schema import LLMResult, Generation\n",
    "from trulens_eval import TruChain, Feedback, Select, Provider\n",
    "\n",
    "class MockLLM(BaseLLM):\n",
    "    \"\"\"Returns each prompt as it is, without making any API calls\"\"\"\n",
    "    @property\n",
    "    def _llm_type(self) -> str:\n",
    "        return \"mock_llm\"\n",
    "    def _generate(self, prompts: List[str], stop=None, run_manager=None, **kwargs: Any) -> LLMResult:\n",
    "        return LLMResult(generations=[[Generation(text=prompt)] for prompt in prompts])\n",
    "\n",
    "class CustomProvider(Provider):\n",
    "    def my_feedback_func(self, prompt: str, inputs: dict) -> float:\n",
    "        prompt = prompt.format(**inputs)\n",
    "        return float(len(prompt))\n",
    "\n",
    "feedback = Feedback(CustomProvider().my_feedback_func) \\\n",
    "    .on(Select.App.app.prompt.template) \\\n",
    "    .on(Select.RecordCalls._call.args.inputs)\n",
    "\n",
    "chain = LLMChain(\n",
    "    llm=MockLLM(),\n",
    "    prompt=PromptTemplate.from_template(\"Tell a {adjective} joke about {subject}\"),\n",
    ")\n",
    "\n",
    "app = TruChain(chain, app_id=\"test\", feedbacks=[feedback])\n",
    "\n",
    "app(inputs={\"adjective\": \"sad\", \"subject\": \"ducks\"})"
   ]
  },
  {
   "cell_type": "code",
   "execution_count": null,
   "id": "412d10d7-cf8d-4dee-bbbd-1bc4c6da3a42",
   "metadata": {},
   "outputs": [],
   "source": [
    "from trulens_eval import Provider"
   ]
  },
  {
   "cell_type": "code",
   "execution_count": null,
   "id": "f1d9c13d-7188-422c-b1e2-a58e4fbc50d3",
   "metadata": {},
   "outputs": [],
   "source": [
    "tru = Tru()\n",
    "tru.start_dashboard(force=True)"
   ]
  },
  {
   "cell_type": "code",
   "execution_count": null,
   "id": "a0916bfa-eac1-42be-a7e0-b547317cefec",
   "metadata": {},
   "outputs": [],
   "source": [
    "class RenderPromptAdapter:\n",
    "    # func: Callable[[str], Any]\n",
    "    # __name__: str = \"adapter\"\n",
    "\n",
    "    def __init__(self, func: Callable[[str], Any]):\n",
    "        self.func=func\n",
    "        self.__name__=func.__name__\n",
    "\n",
    "    def __call__(self, prompt, inputs):\n",
    "        print(prompt)\n",
    "        print(inputs)\n",
    "        print(prompt.format(**inputs))\n",
    "        retval = self.func(prompt.format(**inputs))\n",
    "        print(retval)\n",
    "        return retval"
   ]
  },
  {
   "cell_type": "code",
   "execution_count": null,
   "id": "03b07354-9d9d-4210-b9ff-3d8e4402bc63",
   "metadata": {},
   "outputs": [],
   "source": []
  },
  {
   "cell_type": "code",
   "execution_count": null,
   "id": "541dc4c4-63f0-4b77-9ded-29d93d8848b7",
   "metadata": {},
   "outputs": [],
   "source": [
    "a = RenderPromptAdapter(func=Huggingface().not_toxic)"
   ]
  },
  {
   "cell_type": "code",
   "execution_count": null,
   "id": "d96aac9d-acf1-45cc-b23a-9b195284f23c",
   "metadata": {},
   "outputs": [],
   "source": [
    "keys = [\"key_sum\", \"key_ev\"]\n",
    "\n",
    "assignments = itertools.product([\"summary\"], [{\"e1\": \"event1\", \"e2\": \"event2\"}])\n",
    "\n",
    "for assignment in assignments:\n",
    "    print({k: v for k, v in zip(keys, assignment)})"
   ]
  },
  {
   "cell_type": "code",
   "execution_count": null,
   "id": "681eab1c-cf6c-415d-93e3-69715a58d8eb",
   "metadata": {},
   "outputs": [],
   "source": [
    "import itertools"
   ]
  },
  {
   "cell_type": "code",
   "execution_count": null,
   "id": "5bd15e7b-07c7-43ea-a248-636649e444d3",
   "metadata": {},
   "outputs": [],
   "source": [
    "itertools.product([\"summary\"], [\"event1\", \"event2\"])"
   ]
  },
  {
   "cell_type": "code",
   "execution_count": null,
   "id": "a9394930-60fc-4444-932c-2f8d2c71447e",
   "metadata": {},
   "outputs": [],
   "source": []
  },
  {
   "cell_type": "code",
   "execution_count": null,
   "id": "103bb3ab-f49b-4754-af00-bae50576ac04",
   "metadata": {},
   "outputs": [],
   "source": [
    "class CustomProvider(Provider):\n",
    "    def my_feedback_func(self, prompt: str, inputs: dict) -> float:\n",
    "        return len(prompt.format(**inputs))"
   ]
  },
  {
   "cell_type": "code",
   "execution_count": null,
   "id": "e9fb15d8-d3b2-4a33-83e6-531a6ccfe6c2",
   "metadata": {},
   "outputs": [],
   "source": [
    "f_not_toxic = Feedback(Huggingface().not_toxic_v2) \\\n",
    "    .on(Select.App.app.prompt.template) \\\n",
    "    .on(Select.RecordCalls._call.args.inputs)"
   ]
  },
  {
   "cell_type": "code",
   "execution_count": null,
   "id": "528e66f0-822d-4d6b-b946-262e52c80dea",
   "metadata": {},
   "outputs": [],
   "source": [
    "my_chain = LLMChain(\n",
    "    llm=MockLLM(), # OpenAI(model=\"text-davinci-003\", temperature=0.7),\n",
    "    prompt=PromptTemplate.from_template(\"Tell a {adjective} joke about {subject}\"),\n",
    ")"
   ]
  },
  {
   "cell_type": "code",
   "execution_count": null,
   "id": "e0d6f512-7f9a-483d-991b-bf3a54746b2c",
   "metadata": {},
   "outputs": [],
   "source": [
    "my_chain(inputs={\"adjective\": \"sad\", \"subject\": \"ducks\"})"
   ]
  },
  {
   "cell_type": "code",
   "execution_count": null,
   "id": "3b1d1bdd-77f7-4821-a4f3-763c27d1a936",
   "metadata": {},
   "outputs": [],
   "source": [
    "tru_chain = TruChain(\n",
    "    app=my_chain,\n",
    "    app_id=\"JokeTeller-v1\",\n",
    "    metadata={\"url\": \"http://localhost:5001/#/models/joke_teller/versions/1\"},\n",
    "    feedbacks=[f_not_toxic]\n",
    ")"
   ]
  },
  {
   "cell_type": "code",
   "execution_count": null,
   "id": "4b65f667-1c18-4450-9fb9-b96f450e1267",
   "metadata": {},
   "outputs": [],
   "source": []
  },
  {
   "cell_type": "code",
   "execution_count": null,
   "id": "8ff24c91-051f-4d55-8aef-2dc2a8154ace",
   "metadata": {},
   "outputs": [],
   "source": [
    "app = TruBasicApp(text_to_text=lambda t: f\"returning {t}\")\n",
    "_, record = app.call_with_record(input=\"hello\")"
   ]
  },
  {
   "cell_type": "code",
   "execution_count": null,
   "id": "90de5fd5-4609-4afe-b034-dab028fdc5f8",
   "metadata": {},
   "outputs": [],
   "source": []
  },
  {
   "cell_type": "code",
   "execution_count": null,
   "id": "2e21c770-5b05-4bdc-b519-5e65b0dbf6ab",
   "metadata": {},
   "outputs": [],
   "source": [
    "record"
   ]
  },
  {
   "cell_type": "code",
   "execution_count": null,
   "id": "585ae789-2d5c-465d-bb90-1d02a6f6a3c2",
   "metadata": {},
   "outputs": [],
   "source": [
    "app = TruChain(PassChain(keys=[\"key1\", \"key2\"]))\n",
    "_, record = app.call_with_record(inputs={\"key1\": \"val1\", \"key2\": \"val2\"})"
   ]
  },
  {
   "cell_type": "code",
   "execution_count": null,
   "id": "c5f28196-ef26-4637-8f71-47659aa3dec6",
   "metadata": {},
   "outputs": [],
   "source": []
  },
  {
   "cell_type": "code",
   "execution_count": null,
   "id": "6de1c3a1-9e99-44f3-a45f-1d7243fb9da9",
   "metadata": {},
   "outputs": [],
   "source": [
    "help(TruBasicApp)"
   ]
  },
  {
   "cell_type": "code",
   "execution_count": null,
   "id": "153aced7-7b54-4c26-8fc0-ada6abaf1a06",
   "metadata": {},
   "outputs": [],
   "source": [
    "help(grounded.grounded_statements_aggregator)"
   ]
  },
  {
   "cell_type": "code",
   "execution_count": null,
   "id": "da4603ad-4b90-40ba-8b8c-a4a0d5fa3993",
   "metadata": {},
   "outputs": [],
   "source": []
  },
  {
   "cell_type": "code",
   "execution_count": null,
   "id": "808991f2-0855-4dea-998e-9e1e76f56a91",
   "metadata": {},
   "outputs": [],
   "source": [
    "tru = Tru()\n",
    "tru.start_dashboard(force=True)"
   ]
  },
  {
   "cell_type": "code",
   "execution_count": null,
   "id": "8260823e-f289-473d-b599-32fc37311a7e",
   "metadata": {},
   "outputs": [],
   "source": [
    "hugs = Huggingface()\n",
    "openai = OpenAIFeedback()\n",
    "grounded = Groundedness(OpenAIFeedback())\n",
    "\n",
    "f_lang_match = Feedback(hugs.language_match).on_input_output()\n",
    "\n",
    "f_not_toxic = Feedback(hugs.not_toxic).on_output()\n",
    "\n",
    "f_groundedness_docs = Feedback(grounded.groundedness_measure) \\\n",
    "    .on(Select.Record.app.combine_documents_chain._call.args.inputs.input_documents[:].page_content) \\\n",
    "    .on_output() \\\n",
    "    .aggregate(grounded.grounded_statements_aggregator)\n",
    "\n",
    "# try the whole prompt too\n",
    "# .on(Select.RecordCalls._call.args.inputs.summary, Select.RecordCalls._call.args.inputs.events) \\\n",
    "    # .aggregate(grounded.grounded_statements_aggregator) \\\n",
    "f_groundedness_scene = Feedback(grounded.groundedness_measure) \\\n",
    "    .on(Select.RecordCalls._call.args.inputs[[\"summary\", \"events\"]]) \\\n",
    "    .aggregate(grounded.grounded_statements_aggregator) \\\n",
    "    .on_output()\n",
    "\n",
    "feedbacks = [f_lang_match, f_not_toxic]"
   ]
  },
  {
   "cell_type": "code",
   "execution_count": null,
   "id": "5a921ef4-3fa3-4205-846b-e3a05b245992",
   "metadata": {},
   "outputs": [],
   "source": [
    "help(hugs.not_toxic)"
   ]
  },
  {
   "cell_type": "code",
   "execution_count": null,
   "id": "08eb16a1-420f-4620-8428-e2a337f03fc8",
   "metadata": {},
   "outputs": [],
   "source": [
    "def chain_wrapper(app_id: str, params: dict, feedbacks: Sequence[FeedbackDefinition]):\n",
    "    def wrapper(chain: LLMChain):\n",
    "        return TruChain(chain, app_id=app_id, metadata=params, feedbacks=feedbacks)\n",
    "    return wrapper"
   ]
  },
  {
   "cell_type": "code",
   "execution_count": null,
   "id": "a33b5750-1ccf-4199-9d03-b97fed38de6a",
   "metadata": {},
   "outputs": [],
   "source": [
    "params = {\n",
    "    \"model\": \"text-davinci-003\",\n",
    "    \"temperature\": 0.0,\n",
    "    \"summarize_chain_type\": \"stuff\",\n",
    "}\n",
    "\n",
    "yoda_chain = LLMChain(\n",
    "    llm=OpenAI(model=params[\"model\"], temperature=params[\"temperature\"]),\n",
    "    prompt=FewShotPromptTemplate(\n",
    "        prefix=\"Rephrase the sentence in an inverted fashion\\n\\nExamples:\",\n",
    "        example_prompt=PromptTemplate.from_template(\"Input: {input}\\nOutput: {output}\"),\n",
    "        example_selector=LengthBasedExampleSelector(\n",
    "            example_prompt=PromptTemplate.from_template(\"Input: {input}\\nOutput: {output}\"),\n",
    "            examples=[\n",
    "                {\"input\": \"They need to be at school at seven tomorrow\", \"output\": \"At seven tomorrow at school they need to be\"},\n",
    "                {\"input\": \"I was programming in Python\", \"output\": \"In Python programming was I\"},\n",
    "                {\"input\": \"They were going to school\", \"output\": \"To School they were going\"},\n",
    "            ],\n",
    "        ),\n",
    "        suffix=\"Input: {input}\\nOutput:\",\n",
    "        input_variables=[\"input\"],\n",
    "    ),\n",
    "    verbose=True,\n",
    ")\n",
    "\n",
    "scene_summarizer = SceneSummarizer(\n",
    "    llm=OpenAI(model=params[\"model\"], temperature=params[\"temperature\"]),\n",
    "    chain_wrapper=chain_wrapper(\"SceneSummarizer-v1\", params, [f_groundedness_scene])\n",
    ")\n",
    "\n",
    "knowledge_summarizer = KnowledgeSummarizer(\n",
    "    llm=OpenAI(model=params[\"model\"], temperature=params[\"temperature\"]),\n",
    ")\n",
    "\n",
    "generic_summarize = load_summarize_chain(\n",
    "    llm=OpenAI(model=params[\"model\"], temperature=params[\"temperature\"]),\n",
    "    chain_type=params[\"summarize_chain_type\"],\n",
    ")\n",
    "\n",
    "truchain_knowledge = TruChain(\n",
    "    app=knowledge_summarizer,\n",
    "    app_id='KnowledgeSummarizer-v1',\n",
    "    feedbacks=feedbacks,\n",
    "    metadata=params,\n",
    ")\n",
    "\n",
    "truchain_summarize = TruChain(\n",
    "    app=generic_summarize,\n",
    "    app_id='GenericSummarizer-v1',\n",
    "    feedbacks=[f_groundedness_docs],\n",
    "    metadata=params,\n",
    ")\n",
    "\n",
    "truyoda_chain = TruChain(\n",
    "    app=yoda_chain,\n",
    "    app_id=\"YodaChain-v1\",\n",
    "    feedbacks=feedbacks,\n",
    "    metadata=params,\n",
    ")"
   ]
  },
  {
   "cell_type": "code",
   "execution_count": null,
   "id": "3be1d6fc-2647-4eaf-a65c-536d634f871b",
   "metadata": {},
   "outputs": [],
   "source": [
    "scene_summarizer(\n",
    "    current_summary=\"Henri at was at the beach working with a library named Mlflow. His hair was green\",\n",
    "    new_events=[\n",
    "        SpeechAction(actor=\"Henri\", text=\"This is tricky. Maybe Sebastian could help me with this\"),\n",
    "        SpeechAction(actor=\"Alice\", text=\"Sebastian is on vacation I think\"),\n",
    "    ],\n",
    ")"
   ]
  },
  {
   "cell_type": "code",
   "execution_count": null,
   "id": "d21d5b7d-3a54-4c44-90bd-7a2006c1fcd7",
   "metadata": {},
   "outputs": [],
   "source": [
    "truyoda_chain(\"I would try swimming but it's bad for my hair\")"
   ]
  },
  {
   "cell_type": "code",
   "execution_count": null,
   "id": "6cfabfe4-2c95-4dee-8350-069cf0c3be8a",
   "metadata": {},
   "outputs": [],
   "source": []
  },
  {
   "cell_type": "code",
   "execution_count": null,
   "id": "cf921c04-9b32-46d9-b708-1477809fb353",
   "metadata": {},
   "outputs": [],
   "source": [
    "truchain_summarize([\n",
    "    KnowledgeDocTypes.scene(\"I was sitting outside observing the ravens and the rain\"),\n",
    "    KnowledgeDocTypes.scene(\"I like to sit outside taking care of the cats\"),\n",
    "])"
   ]
  },
  {
   "cell_type": "code",
   "execution_count": null,
   "id": "7b0e68fd-9d04-4cfb-b8c4-c5cccdf732a9",
   "metadata": {},
   "outputs": [],
   "source": [
    "stop"
   ]
  },
  {
   "cell_type": "code",
   "execution_count": null,
   "id": "d5cddc2c-5fda-4604-b22c-ce558ae34e42",
   "metadata": {},
   "outputs": [],
   "source": [
    "truchain(\"They had dinner already\")"
   ]
  },
  {
   "cell_type": "code",
   "execution_count": null,
   "id": "a700da1d-3bcf-48b2-a5e5-70a59127b417",
   "metadata": {},
   "outputs": [],
   "source": [
    "truchain_summarize([\n",
    "    KnowledgeDocTypes.scene(\"I was sitting outside observing the ravens and the rain\"),\n",
    "    KnowledgeDocTypes.scene(\"I like to sit outside taking care of the cats\"),\n",
    "])"
   ]
  },
  {
   "cell_type": "code",
   "execution_count": null,
   "id": "65ca9426-2c11-48e4-aa1b-a3955e3e0e06",
   "metadata": {},
   "outputs": [],
   "source": [
    "truchain(dict(\n",
    "    current_summary=\"Henri was working with a library named Mlflow\",\n",
    "    new_events=[SpeechAction(actor=\"Henri\", text=\"This is tricky. Maybe Sebastian could help me with this\")]\n",
    "))"
   ]
  },
  {
   "cell_type": "code",
   "execution_count": null,
   "id": "393709da-b2d2-4dae-af87-847c4f6cbb3d",
   "metadata": {},
   "outputs": [],
   "source": [
    "truchain.run"
   ]
  },
  {
   "cell_type": "code",
   "execution_count": null,
   "id": "aa13b75a-f1a3-440a-93b1-c25f65fd0dd7",
   "metadata": {},
   "outputs": [],
   "source": []
  }
 ],
 "metadata": {
  "kernelspec": {
   "display_name": "Python 3 (ipykernel)",
   "language": "python",
   "name": "python3"
  },
  "language_info": {
   "codemirror_mode": {
    "name": "ipython",
    "version": 3
   },
   "file_extension": ".py",
   "mimetype": "text/x-python",
   "name": "python",
   "nbconvert_exporter": "python",
   "pygments_lexer": "ipython3",
   "version": "3.9.17"
  }
 },
 "nbformat": 4,
 "nbformat_minor": 5
}
