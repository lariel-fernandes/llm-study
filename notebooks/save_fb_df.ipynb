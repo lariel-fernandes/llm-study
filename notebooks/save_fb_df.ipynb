{
 "cells": [
  {
   "cell_type": "code",
   "execution_count": 5,
   "id": "13d18a28-0778-40e6-a23b-3140fd462775",
   "metadata": {},
   "outputs": [
    {
     "name": "stdout",
     "output_type": "stream",
     "text": [
      "Starting dashboard ...\n"
     ]
    },
    {
     "data": {
      "application/vnd.jupyter.widget-view+json": {
       "model_id": "7faeb38a2b0d4754a40dec07629b35b8",
       "version_major": 2,
       "version_minor": 0
      },
      "text/plain": [
       "Accordion(children=(VBox(children=(VBox(children=(Label(value='STDOUT'), Output())), VBox(children=(Label(valu…"
      ]
     },
     "metadata": {},
     "output_type": "display_data"
    },
    {
     "name": "stdout",
     "output_type": "stream",
     "text": [
      "Dashboard started at http://192.168.178.30:8501 .\n",
      "✅ In not_toxic, input text will be set to *.__record__.main_output or `Select.RecordOutput` .\n",
      "✅ In language_match, input text1 will be set to *.__record__.main_input or `Select.RecordInput` .\n",
      "✅ In language_match, input text2 will be set to *.__record__.main_output or `Select.RecordOutput` .\n",
      "✅ app JokeTeller-v1 -> default.sqlite\n",
      "✅ feedback def. feedback_definition_hash_fc3c7fc1f43d039587a7225731270fb8 -> default.sqlite\n",
      "✅ feedback def. feedback_definition_hash_9caae88670473d73a75a9046aea7a7ea -> default.sqlite\n"
     ]
    },
    {
     "data": {
      "text/plain": [
       "{'adjective': 'absurd',\n",
       " 'subject': 'goose',\n",
       " 'text': '\\n\\nQ: What did the goose say when it saw a strange object in the sky?\\nA: \"UFO-G!\"'}"
      ]
     },
     "execution_count": 5,
     "metadata": {},
     "output_type": "execute_result"
    },
    {
     "name": "stdout",
     "output_type": "stream",
     "text": [
      "✅ record record_hash_d4baf66b9144ff6f6d3cbad05a192cef from JokeTeller-v1 -> default.sqlite\n",
      "✅ feedback feedback_result_hash_610ce4eb96ea8c9f0c72eb15ec5fa120 on record_hash_d4baf66b9144ff6f6d3cbad05a192cef -> default.sqlite\n",
      "✅ feedback feedback_result_hash_5fb80bcda7cd21936156bf7016c5ebca on record_hash_d4baf66b9144ff6f6d3cbad05a192cef -> default.sqlite\n"
     ]
    }
   ],
   "source": [
    "import time\n",
    "import pandas as pd\n",
    "from langchain import LLMChain, PromptTemplate, OpenAI\n",
    "from trulens_eval import Tru, TruChain, Feedback, Huggingface\n",
    "\n",
    "# Start the local dashboard. The URL will be printed so you can access it in your browser.\n",
    "Tru().start_dashboard(force=True)\n",
    "\n",
    "# Define your LangChain App\n",
    "my_chain = LLMChain(\n",
    "    llm=OpenAI(model=\"text-davinci-003\", temperature=0.7),\n",
    "    prompt=PromptTemplate.from_template(\"Tell a {adjective} joke about {subject}\")\n",
    ")\n",
    "\n",
    "# Define your feedbacks\n",
    "f_not_toxic = Feedback(Huggingface().not_toxic).on_output()\n",
    "f_lang_match = Feedback(Huggingface().language_match).on_input_output()\n",
    "\n",
    "# Wrap your App with TruChain\n",
    "tru_chain = TruChain(\n",
    "    app=my_chain,\n",
    "    app_id=\"JokeTeller-v1\",\n",
    "\tmetadata={\"model_url\": \"http://192.168.178.30:8502\", \"run_url\": \"two\"},\n",
    "    feedbacks=[f_not_toxic, f_lang_match],\n",
    "    tags=\"run_id\"\n",
    ")\n",
    "\n",
    "# Make calls to your App as usual\n",
    "tru_chain(inputs={\"adjective\": \"absurd\", \"subject\": \"goose\"})"
   ]
  },
  {
   "cell_type": "code",
   "execution_count": 2,
   "id": "952591b5-63ef-4023-a5e0-27dfc5b6c97c",
   "metadata": {},
   "outputs": [],
   "source": [
    "import time\n",
    "from trulens_eval.app import App\n",
    "from trulens_eval.schema import FeedbackResultStatus, Record\n",
    "\n",
    "class FetchFeedback:\n",
    "\n",
    "    def __init__(self, app: App, max_attempts: int = 5, sleep_sec: int = 1):\n",
    "        self.db = Tru().db\n",
    "        self.fb_count = len(app.feedbacks)\n",
    "        self.max_attempts = max_attempts\n",
    "        self.sleep_sec = sleep_sec\n",
    "\n",
    "    def __call__(self, record: Record) -> pd.DataFrame:\n",
    "        for _ in range(self.max_attempts):\n",
    "            df = self.db.get_feedback(\n",
    "                record_id=record.record_id,\n",
    "                status=[FeedbackResultStatus.DONE, FeedbackResultStatus.FAILED]\n",
    "            )\n",
    "            if len(df) >= self.fb_count:\n",
    "                return df[[\"fname\", \"result\"]] \\\n",
    "                    .pivot_table(columns=\"fname\", values=[\"result\"]) \\\n",
    "                    .rename_axis(None, axis=1)\n",
    "            time.sleep(self.sleep_sec)\n",
    "        raise RuntimeError(f\"{self.__class__} timeout after {self.max_attempts} attempts\")"
   ]
  },
  {
   "cell_type": "code",
   "execution_count": 6,
   "id": "98943504-b624-42db-aaa5-37a276be30f3",
   "metadata": {},
   "outputs": [
    {
     "name": "stdout",
     "output_type": "stream",
     "text": [
      "✅ record record_hash_fa2685c9ae648e544920620cfffdf5bc from JokeTeller-v1 -> default.sqlite\n",
      "✅ feedback feedback_result_hash_63223e4862870985c4014b737f758d70 on record_hash_fa2685c9ae648e544920620cfffdf5bc -> default.sqlite\n",
      "✅ feedback feedback_result_hash_db9ea7d8969963202a89b5b5bc71410d on record_hash_fa2685c9ae648e544920620cfffdf5bc -> default.sqlite\n",
      "✅ record record_hash_96b6cf8c1326a9e88449716336f6c1a9 from JokeTeller-v1 -> default.sqlite\n",
      "✅ feedback feedback_result_hash_823c16a63dcccb38fe8d29fc980b3816 on record_hash_96b6cf8c1326a9e88449716336f6c1a9 -> default.sqlite\n",
      "✅ feedback feedback_result_hash_04b2ee691c73f96d12d45a4e58e95d6c on record_hash_96b6cf8c1326a9e88449716336f6c1a9 -> default.sqlite\n"
     ]
    },
    {
     "data": {
      "text/html": [
       "<div>\n",
       "<style scoped>\n",
       "    .dataframe tbody tr th:only-of-type {\n",
       "        vertical-align: middle;\n",
       "    }\n",
       "\n",
       "    .dataframe tbody tr th {\n",
       "        vertical-align: top;\n",
       "    }\n",
       "\n",
       "    .dataframe thead th {\n",
       "        text-align: right;\n",
       "    }\n",
       "</style>\n",
       "<table border=\"1\" class=\"dataframe\">\n",
       "  <thead>\n",
       "    <tr style=\"text-align: right;\">\n",
       "      <th></th>\n",
       "      <th>adjective</th>\n",
       "      <th>subject</th>\n",
       "      <th>text</th>\n",
       "      <th>language_match</th>\n",
       "      <th>not_toxic</th>\n",
       "    </tr>\n",
       "  </thead>\n",
       "  <tbody>\n",
       "    <tr>\n",
       "      <th>0</th>\n",
       "      <td>sad</td>\n",
       "      <td>duck</td>\n",
       "      <td>\\n\\nQ: Why did the duck feel so blue?\\nA: Beca...</td>\n",
       "      <td>0.977098</td>\n",
       "      <td>0.004071</td>\n",
       "    </tr>\n",
       "    <tr>\n",
       "      <th>1</th>\n",
       "      <td>absurd</td>\n",
       "      <td>goose</td>\n",
       "      <td>\\n\\nQ: What did the goose say when he was aske...</td>\n",
       "      <td>0.068616</td>\n",
       "      <td>0.008994</td>\n",
       "    </tr>\n",
       "  </tbody>\n",
       "</table>\n",
       "</div>"
      ],
      "text/plain": [
       "  adjective subject                                               text  \\\n",
       "0       sad    duck  \\n\\nQ: Why did the duck feel so blue?\\nA: Beca...   \n",
       "1    absurd   goose  \\n\\nQ: What did the goose say when he was aske...   \n",
       "\n",
       "   language_match  not_toxic  \n",
       "0        0.977098   0.004071  \n",
       "1        0.068616   0.008994  "
      ]
     },
     "execution_count": 6,
     "metadata": {},
     "output_type": "execute_result"
    }
   ],
   "source": [
    "dataset = [\n",
    "    {\"adjective\": \"sad\", \"subject\": \"duck\"},\n",
    "    {\"adjective\": \"absurd\", \"subject\": \"goose\"},\n",
    "]\n",
    "\n",
    "results, records = zip(*[\n",
    "    tru_chain.call_with_record(inputs)\n",
    "    for inputs in dataset\n",
    "])\n",
    "\n",
    "fetch_fb = FetchFeedback(app=tru_chain)\n",
    "\n",
    "df_results = pd.DataFrame(results)\n",
    "\n",
    "df_feedback = pd.concat([fetch_fb(r) for r in records]).reset_index(drop=True)\n",
    "\n",
    "pd.concat([df_results, df_feedback], axis=1)"
   ]
  }
 ],
 "metadata": {
  "kernelspec": {
   "display_name": "Python 3 (ipykernel)",
   "language": "python",
   "name": "python3"
  },
  "language_info": {
   "codemirror_mode": {
    "name": "ipython",
    "version": 3
   },
   "file_extension": ".py",
   "mimetype": "text/x-python",
   "name": "python",
   "nbconvert_exporter": "python",
   "pygments_lexer": "ipython3",
   "version": "3.9.17"
  }
 },
 "nbformat": 4,
 "nbformat_minor": 5
}
