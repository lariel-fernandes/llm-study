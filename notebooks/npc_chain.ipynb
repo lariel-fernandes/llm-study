{
 "cells": [
  {
   "cell_type": "code",
   "execution_count": null,
   "id": "fb18b05f-d6b0-41a3-aa9a-116c269164b5",
   "metadata": {},
   "outputs": [],
   "source": [
    "from dataclasses import dataclass\n",
    "from typing import List\n",
    "import textwrap"
   ]
  },
  {
   "cell_type": "code",
   "execution_count": null,
   "id": "df134924-16a8-416b-87f8-68f6e539d836",
   "metadata": {},
   "outputs": [],
   "source": [
    "from langchain.chains.summarize import load_summarize_chain\n",
    "from langchain.llms.openai import OpenAI\n",
    "from langchain.agents import AgentExecutor\n",
    "from langchain.agents import initialize_agent, Tool\n",
    "from langchain.agents import AgentType\n",
    "from langchain.chat_models import ChatOpenAI\n",
    "from langchain.embeddings.openai import OpenAIEmbeddings\n",
    "from langchain.vectorstores import FAISS\n",
    "from langchain.docstore.document import Document\n",
    "from langchain.agents import OpenAIFunctionsAgent\n",
    "from langchain.agents.react.base import ReActDocstoreAgent, ReActTextWorldAgent\n",
    "from langchain.schema import SystemMessage\n",
    "from langchain.prompts import MessagesPlaceholder\n",
    "from langchain.memory import ConversationBufferMemory"
   ]
  },
  {
   "cell_type": "code",
   "execution_count": null,
   "id": "87ea6aff-cb32-4b3c-a79e-7340f6450b3e",
   "metadata": {},
   "outputs": [],
   "source": [
    "# agent = initialize_agent(tools, chat_llm, agent=AgentType.ZERO_SHOT_REACT_DESCRIPTION, verbose=True)"
   ]
  },
  {
   "cell_type": "code",
   "execution_count": 1,
   "id": "eae9a4f5-b086-45ef-a75a-088fa93867f8",
   "metadata": {},
   "outputs": [
    {
     "name": "stdout",
     "output_type": "stream",
     "text": [
      "Answer the following questions as best you can. You have access to the following tools:\n",
      "\n",
      "GetInformation: useful for when you need to get information\n",
      "\n",
      "Use the following format:\n",
      "\n",
      "Question: the input question you must answer\n",
      "Thought: you should always think about what to do\n",
      "Action: the action to take, should be one of [GetInformation]\n",
      "Action Input: the input to the action\n",
      "Observation: the result of the action\n",
      "... (this Thought/Action/Action Input/Observation can repeat N times)\n",
      "Thought: I now know the final answer\n",
      "Final Answer: the final answer to the original input question\n",
      "\n",
      "Begin!\n",
      "\n",
      "Question: {input}\n",
      "Thought:{agent_scratchpad}\n"
     ]
    }
   ],
   "source": [
    "print('Answer the following questions as best you can. You have access to the following tools:\\n\\nGetInformation: useful for when you need to get information\\n\\nUse the following format:\\n\\nQuestion: the input question you must answer\\nThought: you should always think about what to do\\nAction: the action to take, should be one of [GetInformation]\\nAction Input: the input to the action\\nObservation: the result of the action\\n... (this Thought/Action/Action Input/Observation can repeat N times)\\nThought: I now know the final answer\\nFinal Answer: the final answer to the original input question\\n\\nBegin!\\n\\nQuestion: {input}\\nThought:{agent_scratchpad}')"
   ]
  },
  {
   "cell_type": "code",
   "execution_count": null,
   "id": "814990aa-3056-412e-acee-c2d8813254ba",
   "metadata": {},
   "outputs": [],
   "source": [
    "agent.agent"
   ]
  },
  {
   "cell_type": "code",
   "execution_count": null,
   "id": "86fb1d31-4363-44d6-ab2b-d78fb7e129e0",
   "metadata": {},
   "outputs": [],
   "source": [
    "doc_embeddings = OpenAIEmbeddings(model=\"text-embedding-ada-002\")"
   ]
  },
  {
   "cell_type": "code",
   "execution_count": null,
   "id": "4a093f79-d5d0-4f4a-b496-e7c5c7e485e4",
   "metadata": {},
   "outputs": [],
   "source": [
    "summarize_llm = OpenAI(model=\"text-davinci-003\", temperature=0.0)"
   ]
  },
  {
   "cell_type": "code",
   "execution_count": null,
   "id": "d948e07c-2899-46f6-999a-cd0416785563",
   "metadata": {},
   "outputs": [],
   "source": [
    "summarize_chain = load_summarize_chain(llm=summarize_llm, chain_type=\"stuff\")"
   ]
  },
  {
   "cell_type": "code",
   "execution_count": null,
   "id": "e4d9cbdc-6713-4170-9dad-246e6a3e2412",
   "metadata": {},
   "outputs": [],
   "source": [
    "chat_agent = AgentType.OPENAI_FUNCTIONS"
   ]
  },
  {
   "cell_type": "code",
   "execution_count": null,
   "id": "1fa96a5c-be0b-44ad-baa2-75744d4c6acc",
   "metadata": {},
   "outputs": [],
   "source": [
    "chat_llm = ChatOpenAI(model=\"gpt-3.5-turbo\", temperature=0.6)"
   ]
  },
  {
   "cell_type": "code",
   "execution_count": null,
   "id": "2fd7d51c-aeec-40be-ae44-23f069be5fee",
   "metadata": {},
   "outputs": [],
   "source": [
    "npc_header_template = textwrap.dedent(\"\"\"\n",
    "    Your name is {name}\n",
    "    You are {age} years old\n",
    "    Your personality is {personality_traits}\n",
    "    About you: {description}\n",
    "\"\"\")\n",
    "\n",
    "@dataclass\n",
    "class NpcSheet:\n",
    "    name: str\n",
    "    age: int\n",
    "    personality_traits: List[str]\n",
    "    description: str\n",
    "\n",
    "    @property\n",
    "    def header(self) -> str:\n",
    "        return npc_header_template.format(\n",
    "            name=self.name,\n",
    "            age=self.age,\n",
    "            personality_traits=\", \".join(self.personality_traits),\n",
    "            description=self.description,\n",
    "        )\n",
    "\n",
    "john_sheet = NpcSheet(\n",
    "    name=\"John Miles\",\n",
    "    age=24,\n",
    "    personality_traits=[\"polite\", \"gentle\", \"humble\"],\n",
    "    description=\"You are a lawyer\",\n",
    ")\n",
    "\n",
    "print(john_sheet.header)"
   ]
  },
  {
   "cell_type": "code",
   "execution_count": null,
   "id": "9f9ff6ef-eae9-422d-90f5-e2edfc6d46cf",
   "metadata": {},
   "outputs": [],
   "source": [
    "john_knowledge = FAISS.from_documents(\n",
    "    [\n",
    "        Document(page_content=john_sheet.header, metadata={\"type\": \"sheet_header\"}),\n",
    "        Document(page_content=\"I hate fishing. I think it's very cruel with the fish\", metadata={\"type\": \"personality_fact\"}),\n",
    "    ],\n",
    "    doc_embeddings\n",
    ")"
   ]
  },
  {
   "cell_type": "code",
   "execution_count": null,
   "id": "27ca1304-4d75-4877-8b97-edf67f897d1f",
   "metadata": {},
   "outputs": [],
   "source": [
    "john_recall_tool = Tool(\n",
    "    name=\"GetInformation\",\n",
    "    description=\"useful for when you need to get information\",\n",
    "    func=lambda query: summarize_chain.run(john_knowledge.similarity_search(query)),\n",
    ")"
   ]
  },
  {
   "cell_type": "code",
   "execution_count": null,
   "id": "3dffd3cf-756e-45a3-9c05-9cd2209e00ab",
   "metadata": {},
   "outputs": [],
   "source": [
    "situation = \"You are drinking beer in a pub\"\n",
    "trigger = \"A stranger approaches you\"\n",
    "\n",
    "prompt_prefix = f\"\"\"\n",
    "    Context:\n",
    "    {john_sheet.header}\n",
    "    {situation}\n",
    "    {trigger}\n",
    "\n",
    "    Task:\n",
    "    Get information at least once before answering\n",
    "\"\"\"\n",
    "\n",
    "tools = [john_recall_tool]\n",
    "\n",
    "chat_history = ConversationBufferMemory(memory_key=\"chat_history\", return_messages=True)\n",
    "\n",
    "prompt = OpenAIFunctionsAgent.create_prompt(\n",
    "    system_message=SystemMessage(content=prompt_prefix),\n",
    "    extra_prompt_messages=[MessagesPlaceholder(variable_name=\"chat_history\")]\n",
    ")\n",
    "\n",
    "agent = OpenAIFunctionsAgent(llm=chat_llm, tools=tools, prompt=prompt, allowed_tools=[\"Recall\"])\n",
    "executor = AgentExecutor(agent=agent, tools=tools, memory=chat_history, verbose=True)"
   ]
  },
  {
   "cell_type": "code",
   "execution_count": null,
   "id": "f2047e7e-78b8-438e-a171-51a2044739fb",
   "metadata": {},
   "outputs": [],
   "source": [
    "executor.run(\"do you like fishing?\")"
   ]
  },
  {
   "cell_type": "code",
   "execution_count": null,
   "id": "83b9e5f8-6c85-4a93-819a-d5bc91268c66",
   "metadata": {},
   "outputs": [],
   "source": []
  }
 ],
 "metadata": {
  "kernelspec": {
   "display_name": "Python 3 (ipykernel)",
   "language": "python",
   "name": "python3"
  },
  "language_info": {
   "codemirror_mode": {
    "name": "ipython",
    "version": 3
   },
   "file_extension": ".py",
   "mimetype": "text/x-python",
   "name": "python",
   "nbconvert_exporter": "python",
   "pygments_lexer": "ipython3",
   "version": "3.9.16"
  }
 },
 "nbformat": 4,
 "nbformat_minor": 5
}
