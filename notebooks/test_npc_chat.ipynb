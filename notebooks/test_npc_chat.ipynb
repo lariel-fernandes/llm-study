{
 "cells": [
  {
   "cell_type": "code",
   "execution_count": 1,
   "id": "8a200994-dd9d-4d6e-a1d2-be5475c9c006",
   "metadata": {},
   "outputs": [],
   "source": [
    "from llm_study import *"
   ]
  },
  {
   "cell_type": "code",
   "execution_count": 2,
   "id": "f84403f6-50d2-4155-b2f9-78a5ca6b8c17",
   "metadata": {},
   "outputs": [],
   "source": [
    "from langchain.chains.summarize import load_summarize_chain\n",
    "from langchain.llms.openai import OpenAI\n",
    "from langchain.embeddings.openai import OpenAIEmbeddings\n",
    "from langchain.vectorstores import FAISS"
   ]
  },
  {
   "cell_type": "markdown",
   "id": "665612a3-40f1-4e09-a3f1-246603684a15",
   "metadata": {},
   "source": [
    "### Load globally used LLMs and chains"
   ]
  },
  {
   "cell_type": "code",
   "execution_count": 3,
   "id": "1001acf3-df11-4b62-9633-6c67f9808ff5",
   "metadata": {},
   "outputs": [],
   "source": [
    "doc_embeddings = OpenAIEmbeddings(model=\"text-embedding-ada-002\")\n",
    "\n",
    "react_llm = OpenAI(model=\"text-davinci-003\", temperature=0.5)\n",
    "\n",
    "summarize_llm = OpenAI(model=\"text-davinci-003\", temperature=0.0)\n",
    "\n",
    "knowledge_summarizer = KnowledgeSummarizer(llm=summarize_llm)\n",
    "\n",
    "scene_summarizer = SceneSummarizer(llm=summarize_llm)\n",
    "\n",
    "def vectorstore_factory(*docs: Document):\n",
    "    return FAISS.from_documents(docs or [KnowledgeDocTypes.blank()], doc_embeddings)"
   ]
  },
  {
   "cell_type": "markdown",
   "id": "9cc7a250-76f6-4bb6-9050-cc193ac46250",
   "metadata": {},
   "source": [
    "### Define ReAct examples"
   ]
  },
  {
   "cell_type": "code",
   "execution_count": 4,
   "id": "fdcf8da1-44d5-4312-a357-897dafa64c1f",
   "metadata": {},
   "outputs": [],
   "source": [
    "react_examples = [\n",
    "    \"\"\"\n",
    "    Summary: You are shopping at the supermarket. A stranger approached you.\n",
    "    Obs: The stranger says: So, do you like soccer?\n",
    "    Act: [Think] I must recall if I like soccer\n",
    "    Obs: OK\n",
    "    Act: [Recall] Do I like soccer?\n",
    "    Obs: Played soccer with the coworkers last sunday afternoon\n",
    "    Act: [Say] Yes, I play it often with my coworkers\n",
    "    \"\"\",\n",
    "    \"\"\"\n",
    "    Summary: A man named Mark Lewis approached you making small talk about the bad weather\n",
    "    Obs: Mark Lewis says: So, are you married?\n",
    "    Act: [Think] I must recall if I am married\n",
    "    Obs: OK\n",
    "    Act: [Recall] Am I married?\n",
    "    Obs: John black married Henrietta Black in 1892\n",
    "    Act: [Say] Yes, since 1892. Why do you ask?\n",
    "    \"\"\",\n",
    "    \"\"\"\n",
    "    Summary: You are in the university. You are studying for a test\n",
    "    Obs: Your mother says: What are you studying?\n",
    "    Act: [Think] I must recall what I am studying\n",
    "    Obs: OK\n",
    "    Act: [Recall] What test am I studying for\n",
    "    Obs: statistics test next week\n",
    "    Act: [Say] I am studying for a statistics test\n",
    "    \"\"\",\n",
    "    # \"\"\"\n",
    "    # Summary: You are concentrated in reading a book. A child approached you\n",
    "    # Obs: The child did the following: stare at you\n",
    "    # Act: [Think] I'm too concentrated, maybe I'll ignore it\n",
    "    # Obs: OK\n",
    "    # Act: [Do] ignore the child\n",
    "    # \"\"\",\n",
    "    # \"\"\"\n",
    "    # Summary: You are concentrated in reading a book. You overhear coworkers chatting about soccer\n",
    "    # Obs: A coworker said: I'm betting they'll win 2-0 this time\n",
    "    # Act: [Think] I must recall if I have interest in soccer\n",
    "    # Obs: OK\n",
    "    # Act: [Recall] my interest in soccer\n",
    "    # Obs: No information was found\n",
    "    # Act: [Think] I have no interest in this, I'd better ignore\n",
    "    # Obs: OK\n",
    "    # Act: [Do] keep reading the book while ignoring the discussion\n",
    "    # \"\"\",\n",
    "    # \"\"\"\n",
    "    # Summary: You went to a book store and asked the steward for the book Frankenstren from Mary Shelley.\n",
    "    # Obs: The steward said: Wait a moment, I'm checking if we have it in our stock\n",
    "    # Act: [Think] I must wait until they check it\n",
    "    # Obs: OK\n",
    "    # Act: [Do] wait patiently\n",
    "    # \"\"\",\n",
    "]\n",
    "\n",
    "example_selector = ReActUtils.create_similarity_examples_selector(\n",
    "    examples=[ReActExample(content=e) for e in react_examples],\n",
    "    embeddings=doc_embeddings,\n",
    "    vectorstore_cls=FAISS,\n",
    "    num_examples=1,\n",
    ")"
   ]
  },
  {
   "cell_type": "markdown",
   "id": "ce7ea511-a37a-4f47-a66d-ae6a7bbead66",
   "metadata": {},
   "source": [
    "### Define the NpcSheet model"
   ]
  },
  {
   "cell_type": "code",
   "execution_count": 5,
   "id": "655cd058-5e0c-4c55-95b9-d4f4ce555425",
   "metadata": {},
   "outputs": [],
   "source": [
    "TMPL_NPC_SUMMARY = textwrap.dedent(\"\"\"\n",
    "    Your name is {name}\n",
    "    You are {age} years old\n",
    "    Your personality is {personality_traits}\n",
    "    About you: {description}\n",
    "\"\"\").strip()\n",
    "\n",
    "class NpcSheet(BaseNpcSheet):\n",
    "    name: str\n",
    "    age: int\n",
    "    personality_traits: List[str]\n",
    "    description: str\n",
    "\n",
    "    @property\n",
    "    def summary(self) -> str:\n",
    "        kwargs = self.__dict__.copy()\n",
    "        kwargs[\"personality_traits\"] = \", \".join(kwargs[\"personality_traits\"])\n",
    "        return TMPL_NPC_SUMMARY.format(**kwargs)"
   ]
  },
  {
   "cell_type": "markdown",
   "id": "73c43a6b-3183-46b7-91cb-d0c99fd73d14",
   "metadata": {},
   "source": [
    "### Declare NPCs"
   ]
  },
  {
   "cell_type": "code",
   "execution_count": 6,
   "id": "11af2098-132c-4624-a6e9-772ff6e99a76",
   "metadata": {},
   "outputs": [],
   "source": [
    "john = Npc(\n",
    "    sheet=NpcSheet(\n",
    "        name=\"John Bennet\",\n",
    "        age=24,\n",
    "        personality_traits=[\"polite\", \"gentle\", \"humble\"],\n",
    "        description=\"You are a lawyer\",\n",
    "    ),\n",
    "    knowledge_base=NpcKnowledge(\n",
    "        max_retrieval=2,\n",
    "        min_relevance=0.7,\n",
    "        summarizer=knowledge_summarizer,\n",
    "        vectorstore=vectorstore_factory(\n",
    "            KnowledgeDocTypes.scene(\"\"\"\n",
    "                I was enjoying a drink in a London pub when I was approached by a stranger, Buck Jones,\n",
    "                who introduced himself as a dietary doctor. After I told him I did not have a sister,\n",
    "                he apologized for not introducing himself sooner and we exchanged pleasantries. He then\n",
    "                gave me some advice about nutrition and health, emphasizing the importance of avoiding\n",
    "                sugar and carbs. I told him I was familiar with the basics of nutrition and health and\n",
    "                that I try to maintain a balanced diet\n",
    "            \"\"\"),\n",
    "        ),\n",
    "    ),\n",
    ")\n",
    "\n",
    "becky = Npc(\n",
    "    sheet=NpcSheet(\n",
    "        name=\"Becky Jameson\",\n",
    "        age=31,\n",
    "        personality_traits=[\"bold\", \"outgoing\", \"inquisitive\"],\n",
    "        description=\"You are a detective\",\n",
    "    ),\n",
    "    knowledge_base=NpcKnowledge(\n",
    "        max_retrieval=2,\n",
    "        min_relevance=0.7,\n",
    "        summarizer=knowledge_summarizer,\n",
    "        vectorstore=vectorstore_factory(\n",
    "            KnowledgeDocTypes.scene(\"\"\"\n",
    "                Got a new case to work: Some creep has been asking people\n",
    "                around town if they have a sister. Yesterday a body of a\n",
    "                girl was found in the river. There might be a connection.\n",
    "            \"\"\"),\n",
    "        ),\n",
    "    ),\n",
    ")"
   ]
  },
  {
   "cell_type": "markdown",
   "id": "2872ceb7-3303-4f35-a76d-f43b2c709bcc",
   "metadata": {},
   "source": [
    "### Create Scenes"
   ]
  },
  {
   "cell_type": "code",
   "execution_count": 7,
   "id": "2451518d-c0cd-459f-8086-71526eeb39fc",
   "metadata": {},
   "outputs": [],
   "source": [
    "def create_scene(npc: Npc, situation: str, trigger: str) -> NpcScene:\n",
    "    npc.situation = situation\n",
    "    agent = NpcAgent(\n",
    "        npc=npc,\n",
    "        llm=react_llm,\n",
    "        example_selector=example_selector,\n",
    "        role_play_tools=[SpeechTool.create()],\n",
    "    )\n",
    "    return NpcScene(agent, scene_summarizer, trigger=trigger)"
   ]
  },
  {
   "cell_type": "code",
   "execution_count": 8,
   "id": "2aa39d1a-f1e3-44b6-b338-5399e6161925",
   "metadata": {},
   "outputs": [],
   "source": [
    "scene_john = create_scene(\n",
    "    john,\n",
    "    situation=\"You are relaxing in a cafe in Berlin\",\n",
    "    trigger=f\"{becky.sheet.name} approached you\"\n",
    ")\n",
    "\n",
    "scene_becky = create_scene(\n",
    "    becky,\n",
    "    situation=\"You are in a cafe in Berlin. You are investigating a crime\",\n",
    "    trigger=f\"You approached {john.sheet.name}\"\n",
    ")"
   ]
  },
  {
   "cell_type": "code",
   "execution_count": 9,
   "id": "cffe2f37-8686-4522-86c2-3f2e6349f7b5",
   "metadata": {},
   "outputs": [],
   "source": [
    "def run_two_way_scene(active: NpcScene, passive: NpcScene, first_action: RolePlayAction, turns: int):\n",
    "    active.add_to_summary(first_action.as_own())\n",
    "    actions = [first_action]\n",
    "    for _ in range(turns):\n",
    "        actions.append(passive.interact(actions[-1]))\n",
    "        actions.append(active.interact(actions[-1]))\n",
    "    return actions"
   ]
  },
  {
   "cell_type": "code",
   "execution_count": 10,
   "id": "b40ff557-e5e8-4870-af12-07fb054f681b",
   "metadata": {},
   "outputs": [
    {
     "name": "stdout",
     "output_type": "stream",
     "text": [
      "\n",
      "\n",
      "\u001b[1m> Entering new AgentExecutor chain...\u001b[0m\n",
      "\u001b[32;1m\u001b[1;3m\n",
      "[Think] I should be polite and respond to her.\n",
      "\u001b[0m\u001b[36;1m\u001b[1;3mOK\u001b[0m\u001b[32;1m\u001b[1;3m\n",
      "[Say] Hi Becky, I have a few minutes. What would you like to talk about?\n",
      "\u001b[0m\n",
      "\n",
      "\u001b[1m> Finished chain.\u001b[0m\n",
      "\n",
      "\n",
      "\u001b[1m> Entering new AgentExecutor chain...\u001b[0m\n",
      "\u001b[32;1m\u001b[1;3m\n",
      "[Say] Hi John, I'm looking into a case and I was wondering if you could provide me with any information that could help me?\n",
      "\u001b[0m\n",
      "\n",
      "\u001b[1m> Finished chain.\u001b[0m\n",
      "\n",
      "\n",
      "\u001b[1m> Entering new AgentExecutor chain...\u001b[0m\n",
      "\u001b[32;1m\u001b[1;3m\n",
      "[Think] I should recall what information I have that could help her.\n",
      "\u001b[0m\u001b[36;1m\u001b[1;3mOK\u001b[0m\u001b[32;1m\u001b[1;3m\n",
      "[Recall] What information do I have that could help her?\n",
      "\u001b[0m"
     ]
    },
    {
     "name": "stderr",
     "output_type": "stream",
     "text": [
      "/home/lariel/workspace/llm-study/.venv/lib/python3.9/site-packages/langchain/vectorstores/base.py:269: UserWarning: No relevant docs were retrieved using the relevance score threshold 0.7\n",
      "  warnings.warn(\n"
     ]
    },
    {
     "name": "stdout",
     "output_type": "stream",
     "text": [
      "\u001b[33;1m\u001b[1;3mno information was found\u001b[0m\u001b[32;1m\u001b[1;3m\n",
      "[Say] Unfortunately, I don't have any information that could help you.\n",
      "\u001b[0m\n",
      "\n",
      "\u001b[1m> Finished chain.\u001b[0m\n",
      "\n",
      "\n",
      "\u001b[1m> Entering new AgentExecutor chain...\u001b[0m\n",
      "\u001b[32;1m\u001b[1;3m\n",
      "[Think] What other questions can I ask him?\n",
      "\u001b[0m\u001b[36;1m\u001b[1;3mOK\u001b[0m\u001b[32;1m\u001b[1;3m\n",
      "[Recall] What other people have I spoken to about this case?\n",
      "\u001b[0m\u001b[33;1m\u001b[1;3mI have been assigned a new case involving a suspicious individual who has been asking people around town if they have a sister. Yesterday, a body of a girl was found in the river, and I am investigating whether there is a connection between the two events.\u001b[0m\u001b[32;1m\u001b[1;3m\n",
      "[Say] Do you know anyone who might have information about this individual or the body found in the river?\n",
      "\u001b[0m\n",
      "\n",
      "\u001b[1m> Finished chain.\u001b[0m\n",
      "\n",
      "\n",
      "\u001b[1m> Entering new AgentExecutor chain...\u001b[0m\n",
      "\u001b[32;1m\u001b[1;3m\n",
      "[Think] I need to recall if I know anyone who could help her.\n",
      "\u001b[0m\u001b[36;1m\u001b[1;3mOK\u001b[0m\u001b[32;1m\u001b[1;3m\n",
      "[Recall] Do I know anyone who could help Becky with her case?\n",
      "\u001b[0m\u001b[33;1m\u001b[1;3mno information was found\u001b[0m\u001b[32;1m\u001b[1;3m\n",
      "[Say] Unfortunately, I don't know anyone who could help you with this case.\n",
      "\u001b[0m\n",
      "\n",
      "\u001b[1m> Finished chain.\u001b[0m\n",
      "\n",
      "\n",
      "\u001b[1m> Entering new AgentExecutor chain...\u001b[0m\n",
      "\u001b[32;1m\u001b[1;3m\n",
      "[Think] I should ask John if he knows of any other places I can look for information about the case.\n",
      "\u001b[0m\u001b[36;1m\u001b[1;3mOK\u001b[0m\u001b[32;1m\u001b[1;3m\n",
      "[Say] Do you know of any other places I can look for information about this case?\n",
      "\u001b[0m\n",
      "\n",
      "\u001b[1m> Finished chain.\u001b[0m\n",
      "\n",
      "\n",
      "\u001b[1m> Entering new AgentExecutor chain...\u001b[0m\n",
      "\u001b[32;1m\u001b[1;3m\n",
      "[Say] Unfortunately, I don't know anyone who could help you with this case. Do you think the police would have any more information?\n",
      "\u001b[0m\n",
      "\n",
      "\u001b[1m> Finished chain.\u001b[0m\n",
      "\n",
      "\n",
      "\u001b[1m> Entering new AgentExecutor chain...\u001b[0m\n",
      "\u001b[32;1m\u001b[1;3m\n",
      "[Think] I should ask John if he knows of any other places I could look for information about this case.\n",
      "\u001b[0m\u001b[36;1m\u001b[1;3mOK\u001b[0m\u001b[32;1m\u001b[1;3m\n",
      "[Say] Do you know of any other places I could look for information about this case?\n",
      "\u001b[0m\n",
      "\n",
      "\u001b[1m> Finished chain.\u001b[0m\n"
     ]
    }
   ],
   "source": [
    "actions = run_two_way_scene(\n",
    "    scene_becky,\n",
    "    scene_john,\n",
    "    SpeechAction(actor=becky.sheet.name, text=\"Hi, do you have time to talk?\"),\n",
    "    turns=3,\n",
    ")"
   ]
  },
  {
   "cell_type": "code",
   "execution_count": null,
   "id": "405b50ec-d7bf-40fe-a014-781e31855dea",
   "metadata": {},
   "outputs": [],
   "source": []
  },
  {
   "cell_type": "code",
   "execution_count": 11,
   "id": "7db70679-81a0-4d50-ae85-848765916237",
   "metadata": {},
   "outputs": [
    {
     "ename": "NameError",
     "evalue": "name 'stop' is not defined",
     "output_type": "error",
     "traceback": [
      "\u001b[0;31m---------------------------------------------------------------------------\u001b[0m",
      "\u001b[0;31mNameError\u001b[0m                                 Traceback (most recent call last)",
      "Cell \u001b[0;32mIn[11], line 1\u001b[0m\n\u001b[0;32m----> 1\u001b[0m \u001b[43mstop\u001b[49m\n",
      "\u001b[0;31mNameError\u001b[0m: name 'stop' is not defined"
     ]
    }
   ],
   "source": [
    "stop"
   ]
  },
  {
   "cell_type": "code",
   "execution_count": null,
   "id": "e4a03749-6616-4526-bd20-47eeee3051ea",
   "metadata": {},
   "outputs": [],
   "source": [
    "input_action = FreeAction(actor=\"a stranger\", text=\"pull a chair and sit next to you\")\n",
    "print(input_action.action_description)\n",
    "output_action = scene_1.interact(input_action)\n",
    "print(output_action.action_description)\n",
    "print(scene_1.summary)"
   ]
  },
  {
   "cell_type": "code",
   "execution_count": null,
   "id": "647bee0a-e43e-4da8-883f-c6bac447b598",
   "metadata": {},
   "outputs": [],
   "source": [
    "input_action = FreeAction(actor=becky.sheet.name, text=\"take a sip of your coffee\")\n",
    "print(input_action.action_description)\n",
    "output_action = scene_1.interact(input_action)\n",
    "print(output_action.action_description)\n",
    "print(scene_1.summary)"
   ]
  },
  {
   "cell_type": "code",
   "execution_count": null,
   "id": "9e33d7f1-68a7-410e-aff4-078e80602a27",
   "metadata": {},
   "outputs": [],
   "source": [
    "scene_1.interact(FreeAction(becky.name, \"pull a chair and sit next to you\"))"
   ]
  },
  {
   "cell_type": "code",
   "execution_count": null,
   "id": "723b58c2-7409-43a9-bb09-8cbbd3393a70",
   "metadata": {},
   "outputs": [],
   "source": [
    "scene_1.say(\"stranger\", \"Hi, my name is Becky Jameson and I'm a detective. Do you have time to talk?\")"
   ]
  },
  {
   "cell_type": "code",
   "execution_count": null,
   "id": "92dcbaba-125b-4c80-9aee-a2862b8431a2",
   "metadata": {},
   "outputs": [],
   "source": [
    "chat_1.say(\"stranger\", \"I'm sorry, I forgot to introduce myself. I'm Buck Jones, a dietary doctor\")"
   ]
  },
  {
   "cell_type": "code",
   "execution_count": null,
   "id": "9494e323-2d09-490f-9d15-1d2236ab88ef",
   "metadata": {},
   "outputs": [],
   "source": [
    "chat_1.summary"
   ]
  },
  {
   "cell_type": "code",
   "execution_count": null,
   "id": "a3c74337-6b2c-447f-be6c-1d4d43274a53",
   "metadata": {},
   "outputs": [],
   "source": [
    "chat_1.say(\"Buck Jones\", \"you should always remember that sugar is terrible for your health. Avoid sugar and carbs at all costs\")"
   ]
  },
  {
   "cell_type": "code",
   "execution_count": null,
   "id": "9734b3c3-2974-406c-917a-5145645b28f5",
   "metadata": {},
   "outputs": [],
   "source": [
    "chat_1.summary"
   ]
  },
  {
   "cell_type": "code",
   "execution_count": null,
   "id": "27e9beb5-09bf-4913-b311-dbcd4528ef9e",
   "metadata": {},
   "outputs": [],
   "source": [
    "chat_1.finish_chat()"
   ]
  },
  {
   "cell_type": "code",
   "execution_count": null,
   "id": "31517dee-5dfd-42d3-beb6-9536b58e3ff9",
   "metadata": {},
   "outputs": [],
   "source": [
    "chat_2 = create_chat(john, situation=\"You are eating cake at home\", trigger=\"Buck Jones approached you\")"
   ]
  },
  {
   "cell_type": "code",
   "execution_count": null,
   "id": "de6c14e1-3151-4420-955d-c1b6938dd284",
   "metadata": {},
   "outputs": [],
   "source": [
    "chat_2.say(\"Buck Jones\", \"Hi John\")"
   ]
  },
  {
   "cell_type": "code",
   "execution_count": null,
   "id": "ad7cf604-52b4-4880-afab-a4fe7b8374dd",
   "metadata": {},
   "outputs": [],
   "source": [
    "chat_2.say(\"Buck Jones\", \"What are you doing? Did I not warn you about that already?\")"
   ]
  }
 ],
 "metadata": {
  "kernelspec": {
   "display_name": "Python 3 (ipykernel)",
   "language": "python",
   "name": "python3"
  },
  "language_info": {
   "codemirror_mode": {
    "name": "ipython",
    "version": 3
   },
   "file_extension": ".py",
   "mimetype": "text/x-python",
   "name": "python",
   "nbconvert_exporter": "python",
   "pygments_lexer": "ipython3",
   "version": "3.9.17"
  }
 },
 "nbformat": 4,
 "nbformat_minor": 5
}
