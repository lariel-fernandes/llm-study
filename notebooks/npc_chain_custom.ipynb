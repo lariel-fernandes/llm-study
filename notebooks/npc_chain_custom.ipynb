{
 "cells": [
  {
   "cell_type": "code",
   "execution_count": 7,
   "id": "d0891f85-d309-41f7-9f86-2a23553cd6a1",
   "metadata": {},
   "outputs": [],
   "source": [
    "from dataclasses import dataclass\n",
    "from typing import List\n",
    "import textwrap"
   ]
  },
  {
   "cell_type": "code",
   "execution_count": 8,
   "id": "a28c67da-790b-48d3-a96b-6937c69ddc88",
   "metadata": {},
   "outputs": [],
   "source": [
    "from langchain.chains.summarize import load_summarize_chain\n",
    "from langchain.llms.openai import OpenAI\n",
    "from langchain.agents import AgentExecutor\n",
    "from langchain.agents import initialize_agent, Tool\n",
    "from langchain.embeddings.openai import OpenAIEmbeddings\n",
    "from langchain.vectorstores import FAISS\n",
    "from langchain import PromptTemplate"
   ]
  },
  {
   "cell_type": "code",
   "execution_count": 9,
   "id": "3e7c50f2-a03d-412c-9d58-9c95a7843139",
   "metadata": {},
   "outputs": [],
   "source": [
    "doc_embeddings = OpenAIEmbeddings(model=\"text-embedding-ada-002\")\n",
    "\n",
    "summarize_llm = OpenAI(model=\"text-davinci-003\", temperature=0.0)\n",
    "\n",
    "summarize_chain = load_summarize_chain(llm=summarize_llm, chain_type=\"stuff\")\n",
    "\n",
    "react_llm = OpenAI(model=\"gpt-3.5-turbo\", temperature=0.6)"
   ]
  },
  {
   "cell_type": "code",
   "execution_count": 10,
   "id": "7503b39d-b3c6-4870-afe5-a8854168c183",
   "metadata": {},
   "outputs": [
    {
     "name": "stdout",
     "output_type": "stream",
     "text": [
      "\n",
      "Your name is John Miles\n",
      "You are 24 years old\n",
      "Your personality is polite, gentle, humble\n",
      "About you: You are a lawyer\n",
      "\n"
     ]
    }
   ],
   "source": [
    "npc_header_template = textwrap.dedent(\"\"\"\n",
    "    Your name is {name}\n",
    "    You are {age} years old\n",
    "    Your personality is {personality_traits}\n",
    "    About you: {description}\n",
    "\"\"\")\n",
    "\n",
    "@dataclass\n",
    "class NpcSheet:\n",
    "    name: str\n",
    "    age: int\n",
    "    personality_traits: List[str]\n",
    "    description: str\n",
    "\n",
    "    @property\n",
    "    def header(self) -> str:\n",
    "        return npc_header_template.format(\n",
    "            name=self.name,\n",
    "            age=self.age,\n",
    "            personality_traits=\", \".join(self.personality_traits),\n",
    "            description=self.description,\n",
    "        )\n",
    "\n",
    "john_sheet = NpcSheet(\n",
    "    name=\"John Miles\",\n",
    "    age=24,\n",
    "    personality_traits=[\"polite\", \"gentle\", \"humble\"],\n",
    "    description=\"You are a lawyer\",\n",
    ")\n",
    "\n",
    "print(john_sheet.header)"
   ]
  },
  {
   "cell_type": "code",
   "execution_count": 15,
   "id": "ecdd16cb-9e65-4964-b9ec-12b82e35ee13",
   "metadata": {},
   "outputs": [],
   "source": [
    "react_tmpl = PromptTemplate.from_template(textwrap.dedent(\"\"\"\n",
    "    {character_header}\n",
    "    \n",
    "    Answer with your next action. You have access to the following actions:\n",
    "\n",
    "    Think: make an observation to yourself\n",
    "    Recall: recall something from your memory\n",
    "    Say: end the loop by saying something\n",
    "\n",
    "    Examples:\n",
    "\n",
    "    EXAMPLE START:\n",
    "    Summary: A man named Mark Lewis approached you making small talk about the bad weather\n",
    "    Obs: Mark Lewis says: So, are you married?\n",
    "    Act: [Think] I must recall if I am married\n",
    "    Obs: OK\n",
    "    Act: [Recall] Am I married?\n",
    "    Obs: John black married Henrietta Black in 1892\n",
    "    Act: [Say] Yes, since 1892. Why do you ask?\n",
    "    END OF EXAMPLE\n",
    "\n",
    "    Begin!\n",
    "\n",
    "    Summary: {summary}\n",
    "    Obs: {interlocutor} says: {input}\n",
    "    Act: \"\"\n",
    "\"\"\"))"
   ]
  },
  {
   "cell_type": "code",
   "execution_count": 16,
   "id": "50214abd-1087-477a-8a32-8dff17e9bef1",
   "metadata": {},
   "outputs": [
    {
     "name": "stdout",
     "output_type": "stream",
     "text": [
      "\n",
      "Your name is John Miles\n",
      "You are 24 years old\n",
      "Your personality is polite, gentle, humble\n",
      "About you: You are a lawyer\n",
      "\n",
      "\n",
      "    Answer with your next action. You have access to the following actions:\n",
      "\n",
      "    Think: make an observation to yourself\n",
      "    Recall: recall something from your memory\n",
      "    Say: end the loop by saying something\n",
      "\n",
      "    Examples:\n",
      "\n",
      "    EXAMPLE START:\n",
      "    Summary: A man named Mark Lewis approached you making small talk about the bad weather\n",
      "    Obs: Mark Lewis says: So, are you married?\n",
      "    Act: [Think] I must recall if I am married\n",
      "    Obs: OK\n",
      "    Act: [Recall] Am I married?\n",
      "    Obs: John black married Henrietta Black in 1892\n",
      "    Act: [Say] Yes, since 1892. Why do you ask?\n",
      "    END OF EXAMPLE\n",
      "\n",
      "    Begin!\n",
      "\n",
      "    Summary: You are drinking in a pub in London. A stranger approaches you\n",
      "    Obs: the stranger says: Hi. What are you doing here?\n",
      "    Act: \"\"\n"
     ]
    }
   ],
   "source": [
    "situation = \"You are drinking in a pub in London\"\n",
    "trigger = \"A stranger approaches you\"\n",
    "\n",
    "print(react_tmpl.format(\n",
    "    character_header=john_sheet.header,\n",
    "    summary=f\"{situation}. {trigger}\",\n",
    "    interlocutor=\"the stranger\",\n",
    "    input=\"Hi. What are you doing here?\",\n",
    "))"
   ]
  },
  {
   "cell_type": "code",
   "execution_count": null,
   "id": "40d55e26-dcc5-46dd-aaeb-6575c57ad54b",
   "metadata": {},
   "outputs": [],
   "source": []
  }
 ],
 "metadata": {
  "kernelspec": {
   "display_name": "Python 3 (ipykernel)",
   "language": "python",
   "name": "python3"
  },
  "language_info": {
   "codemirror_mode": {
    "name": "ipython",
    "version": 3
   },
   "file_extension": ".py",
   "mimetype": "text/x-python",
   "name": "python",
   "nbconvert_exporter": "python",
   "pygments_lexer": "ipython3",
   "version": "3.9.16"
  }
 },
 "nbformat": 4,
 "nbformat_minor": 5
}
