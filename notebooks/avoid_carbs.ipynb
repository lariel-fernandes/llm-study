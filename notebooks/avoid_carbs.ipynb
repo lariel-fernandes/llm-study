{
 "cells": [
  {
   "cell_type": "code",
   "execution_count": 1,
   "id": "8a200994-dd9d-4d6e-a1d2-be5475c9c006",
   "metadata": {},
   "outputs": [],
   "source": [
    "from llm_study import *"
   ]
  },
  {
   "cell_type": "code",
   "execution_count": 2,
   "id": "f84403f6-50d2-4155-b2f9-78a5ca6b8c17",
   "metadata": {},
   "outputs": [],
   "source": [
    "from langchain.chains.summarize import load_summarize_chain\n",
    "from langchain.llms.openai import OpenAI\n",
    "from langchain.embeddings.openai import OpenAIEmbeddings\n",
    "from langchain.vectorstores import FAISS"
   ]
  },
  {
   "cell_type": "markdown",
   "id": "665612a3-40f1-4e09-a3f1-246603684a15",
   "metadata": {},
   "source": [
    "### Load globally used LLMs and chains"
   ]
  },
  {
   "cell_type": "code",
   "execution_count": 10,
   "id": "1001acf3-df11-4b62-9633-6c67f9808ff5",
   "metadata": {},
   "outputs": [],
   "source": [
    "doc_embeddings = OpenAIEmbeddings(model=\"text-embedding-ada-002\")\n",
    "\n",
    "react_llm = OpenAI(model=\"text-davinci-003\", temperature=0.5)\n",
    "\n",
    "summarize_llm = OpenAI(model=\"text-davinci-003\", temperature=0.0)\n",
    "\n",
    "knowledge_summarizer = KnowledgeSummarizer(llm=summarize_llm)\n",
    "\n",
    "chat_summarizer = ChatStateSummarizer(llm=summarize_llm)\n",
    "\n",
    "def vectorstore_factory(*docs: Document):\n",
    "    return FAISS.from_documents(docs or [KnowledgeDocTypes.blank()], doc_embeddings)"
   ]
  },
  {
   "cell_type": "markdown",
   "id": "9cc7a250-76f6-4bb6-9050-cc193ac46250",
   "metadata": {},
   "source": [
    "### Define ReAct examples"
   ]
  },
  {
   "cell_type": "code",
   "execution_count": 4,
   "id": "fdcf8da1-44d5-4312-a357-897dafa64c1f",
   "metadata": {},
   "outputs": [],
   "source": [
    "react_examples = [\n",
    "    \"\"\"\n",
    "    Summary: You are shopping at the supermarket. A stranger approached you.\n",
    "    Obs: The stranger says: So, do you like soccer?\n",
    "    Act: [Think] I must recall if I like soccer\n",
    "    Obs: OK\n",
    "    Act: [Recall] Do I like soccer?\n",
    "    Obs: Played soccer with the coworkers last sunday afternoon\n",
    "    Act: [Say] Yes, I play it often with my coworkers\n",
    "    \"\"\",\n",
    "    \"\"\"\n",
    "    Summary: A man named Mark Lewis approached you making small talk about the bad weather\n",
    "    Obs: Mark Lewis says: So, are you married?\n",
    "    Act: [Think] I must recall if I am married\n",
    "    Obs: OK\n",
    "    Act: [Recall] Am I married?\n",
    "    Obs: John black married Henrietta Black in 1892\n",
    "    Act: [Say] Yes, since 1892. Why do you ask?\n",
    "    \"\"\",\n",
    "]\n",
    "\n",
    "example_selector = ReActUtils.create_similarity_examples_selector(\n",
    "    examples=[ReActExample(content=e) for e in react_examples],\n",
    "    embeddings=doc_embeddings,\n",
    "    vectorstore_cls=FAISS,\n",
    "    num_examples=1,\n",
    ")"
   ]
  },
  {
   "cell_type": "markdown",
   "id": "ce7ea511-a37a-4f47-a66d-ae6a7bbead66",
   "metadata": {},
   "source": [
    "### Define the NpcSheet model"
   ]
  },
  {
   "cell_type": "code",
   "execution_count": null,
   "id": "655cd058-5e0c-4c55-95b9-d4f4ce555425",
   "metadata": {},
   "outputs": [],
   "source": [
    "TMPL_NPC_SUMMARY = textwrap.dedent(\"\"\"\n",
    "    Your name is {name}\n",
    "    You are {age} years old\n",
    "    Your personality is {personality_traits}\n",
    "    About you: {description}\n",
    "\"\"\").strip()\n",
    "\n",
    "class NpcSheet(BaseNpcSheet):\n",
    "    name: str\n",
    "    age: int\n",
    "    personality_traits: List[str]\n",
    "    description: str\n",
    "\n",
    "    @property\n",
    "    def summary(self) -> str:\n",
    "        kwargs = self.__dict__\n",
    "        kwargs[\"personality_traits\"] = \", \".join(kwargs[\"personality_traits\"])\n",
    "        return TMPL_NPC_SUMMARY.format(**kwargs)"
   ]
  },
  {
   "cell_type": "markdown",
   "id": "73c43a6b-3183-46b7-91cb-d0c99fd73d14",
   "metadata": {},
   "source": [
    "### Declare NPCs"
   ]
  },
  {
   "cell_type": "code",
   "execution_count": 25,
   "id": "11af2098-132c-4624-a6e9-772ff6e99a76",
   "metadata": {},
   "outputs": [
    {
     "ename": "SyntaxError",
     "evalue": "invalid syntax (1319777964.py, line 16)",
     "output_type": "error",
     "traceback": [
      "\u001b[0;36m  Cell \u001b[0;32mIn[25], line 16\u001b[0;36m\u001b[0m\n\u001b[0;31m    I was enjoying a drink in a London pub when I was approached by a stranger, Buck Jones, who introduced himself as a dietary doctor. After I told him I did not have a sister, he apologized for not introducing himself sooner and we exchanged pleasantries. He then gave me some advice about nutrition and health, emphasizing the importance of avoiding sugar and carbs. I told him I was familiar with the basics of nutrition and health and that I try to maintain a balanced diet\"\"\"\u001b[0m\n\u001b[0m      ^\u001b[0m\n\u001b[0;31mSyntaxError\u001b[0m\u001b[0;31m:\u001b[0m invalid syntax\n"
     ]
    }
   ],
   "source": [
    "john = Npc(\n",
    "    sheet=NpcSheet(\n",
    "        name=\"John Bennet\",\n",
    "        age=24,\n",
    "        personality_traits=[\"polite\", \"gentle\", \"humble\"],\n",
    "        description=\"You are a lawyer\",\n",
    "    ),\n",
    "    knowledge_base=NpcKnowledge(\n",
    "        max_retrieval=2,\n",
    "        min_relevance=0.7,\n",
    "        summarize_chain=knowledge_summarizer,\n",
    "        vectorstore=vectorstore_factory(\n",
    "            KnowledgeDocTypes.chat(\"\"\"\n",
    "                I was enjoying a drink in a London pub when I was approached by a stranger, Buck Jones,\n",
    "                who introduced himself as a dietary doctor. After I told him I did not have a sister,\n",
    "                he apologized for not introducing himself sooner and we exchanged pleasantries. He then\n",
    "                gave me some advice about nutrition and health, emphasizing the importance of avoiding\n",
    "                sugar and carbs. I told him I was familiar with the basics of nutrition and health and\n",
    "                that I try to maintain a balanced diet\n",
    "            \"\"\"),\n",
    "        ),\n",
    "    ),\n",
    ")\n",
    "\n",
    "becky = Npc(\n",
    "    sheet=NpcSheet(\n",
    "        name=\"Becky Jameson\",\n",
    "        age=31,\n",
    "        personality_traits=[\"bold\", \"outgoing\", \"inquisitive\"],\n",
    "        description=\"You are a detective\",\n",
    "    ),\n",
    "    knowledge_base=NpcKnowledge(\n",
    "        max_retrieval=2,\n",
    "        min_relevance=0.7,\n",
    "        summarize_chain=knowledge_summarizer,\n",
    "        vectorstore=vectorstore_factory(),\n",
    "    ),\n",
    ")"
   ]
  },
  {
   "cell_type": "markdown",
   "id": "2872ceb7-3303-4f35-a76d-f43b2c709bcc",
   "metadata": {},
   "source": [
    "### Create Chats"
   ]
  },
  {
   "cell_type": "code",
   "execution_count": 11,
   "id": "2451518d-c0cd-459f-8086-71526eeb39fc",
   "metadata": {},
   "outputs": [],
   "source": [
    "def create_chat(npc: Npc, situation: str, trigger: str) -> NpcChat:\n",
    "    npc.situation = situation\n",
    "    tools = ReActUtils.create_tools(npc)\n",
    "    agent = NpcChatAgent(tools=tools, llm=react_llm, example_selector=example_selector)\n",
    "    return NpcChat(john, agent, chat_state_summarizer, trigger=trigger)\n",
    "\n",
    "chat_1 = create_chat(john, situation=\"You are drinking in a pub in London\", trigger=\"A stranger approached you\")"
   ]
  },
  {
   "cell_type": "code",
   "execution_count": 12,
   "id": "723b58c2-7409-43a9-bb09-8cbbd3393a70",
   "metadata": {},
   "outputs": [
    {
     "name": "stdout",
     "output_type": "stream",
     "text": [
      "\n",
      "\n",
      "\u001b[1m> Entering new AgentExecutor chain...\u001b[0m\n",
      "\u001b[32;1m\u001b[1;3m\n",
      "{'tool': 'Think', 'tool_input': 'I must recall if I have a sister.'}\n",
      "\u001b[0m\u001b[36;1m\u001b[1;3mOK\u001b[0m\u001b[32;1m\u001b[1;3m\n",
      "{'tool': 'Recall', 'tool_input': 'Do I have a sister?'}\n",
      "\u001b[0m\u001b[33;1m\u001b[1;3m No information provided.\u001b[0mAct: [Think] I must recall if I have a sister.\n",
      "Obs: OK\n",
      "Act: [Recall] Do I have a sister?\n",
      "Obs: No information provided.\n",
      "\u001b[32;1m\u001b[1;3m\u001b[0m\n",
      "\n",
      "\u001b[1m> Finished chain.\u001b[0m\n"
     ]
    },
    {
     "data": {
      "text/plain": [
       "\"No, I don't have a sister. Why do you ask?\""
      ]
     },
     "execution_count": 12,
     "metadata": {},
     "output_type": "execute_result"
    }
   ],
   "source": [
    "chat_1.say(\"stranger\", \"Hi, do you have a sister?\")"
   ]
  },
  {
   "cell_type": "code",
   "execution_count": 14,
   "id": "92dcbaba-125b-4c80-9aee-a2862b8431a2",
   "metadata": {},
   "outputs": [
    {
     "name": "stdout",
     "output_type": "stream",
     "text": [
      "\n",
      "\n",
      "\u001b[1m> Entering new AgentExecutor chain...\u001b[0m\n",
      "\u001b[32;1m\u001b[1;3m\n",
      "{'tool': 'Think', 'tool_input': 'I should introduce myself to this stranger.'}\n",
      "\u001b[0m\u001b[36;1m\u001b[1;3mOK\u001b[0mAct: [Think] I should introduce myself to this stranger.\n",
      "Obs: OK\n",
      "\u001b[32;1m\u001b[1;3m\u001b[0m\n",
      "\n",
      "\u001b[1m> Finished chain.\u001b[0m\n"
     ]
    },
    {
     "data": {
      "text/plain": [
       "\"Nice to meet you, Buck. I'm John Bennet.\""
      ]
     },
     "execution_count": 14,
     "metadata": {},
     "output_type": "execute_result"
    }
   ],
   "source": [
    "chat_1.say(\"stranger\", \"I'm sorry, I forgot to introduce myself. I'm Buck Jones, a dietary doctor\")"
   ]
  },
  {
   "cell_type": "code",
   "execution_count": 15,
   "id": "9494e323-2d09-490f-9d15-1d2236ab88ef",
   "metadata": {},
   "outputs": [
    {
     "data": {
      "text/plain": [
       "'\\n\\nI was enjoying a drink in a London pub when a stranger, Buck Jones, introduced himself as a dietary doctor and asked if I had a sister. When I told him I did not, he apologized for not introducing himself sooner. We exchanged pleasantries and I introduced myself as John Bennet.'"
      ]
     },
     "execution_count": 15,
     "metadata": {},
     "output_type": "execute_result"
    }
   ],
   "source": [
    "chat_1.summary"
   ]
  },
  {
   "cell_type": "code",
   "execution_count": 16,
   "id": "a3c74337-6b2c-447f-be6c-1d4d43274a53",
   "metadata": {},
   "outputs": [
    {
     "name": "stdout",
     "output_type": "stream",
     "text": [
      "\n",
      "\n",
      "\u001b[1m> Entering new AgentExecutor chain...\u001b[0m\n",
      "\u001b[32;1m\u001b[1;3m\n",
      "{'tool': 'Think', 'tool_input': 'I should recall what I already know about nutrition and health.'}\n",
      "\u001b[0m\u001b[36;1m\u001b[1;3mOK\u001b[0m\u001b[32;1m\u001b[1;3m\n",
      "{'tool': 'Recall', 'tool_input': 'I know that a balanced diet is important for overall health and that sugar should be consumed in moderation.'}\n",
      "\u001b[0m\u001b[33;1m\u001b[1;3m No information provided.\u001b[0mAct: [Think] I should recall what I already know about nutrition and health.\n",
      "Obs: OK\n",
      "Act: [Recall] I know that a balanced diet is important for overall health and that sugar should be consumed in moderation.\n",
      "Obs: No information provided.\n",
      "\u001b[32;1m\u001b[1;3m\u001b[0m\n",
      "\n",
      "\u001b[1m> Finished chain.\u001b[0m\n"
     ]
    },
    {
     "data": {
      "text/plain": [
       "\"Yes, I'm familiar with the basics of nutrition and health. I try to maintain a balanced diet.\""
      ]
     },
     "execution_count": 16,
     "metadata": {},
     "output_type": "execute_result"
    }
   ],
   "source": [
    "chat_1.say(\"Buck Jones\", \"you should always remember that sugar is terrible for your health. Avoid sugar and carbs at all costs\")"
   ]
  },
  {
   "cell_type": "code",
   "execution_count": 17,
   "id": "9734b3c3-2974-406c-917a-5145645b28f5",
   "metadata": {},
   "outputs": [
    {
     "data": {
      "text/plain": [
       "'\\n\\nI was enjoying a drink in a London pub when I was approached by a stranger, Buck Jones, who introduced himself as a dietary doctor. After I told him I did not have a sister, he apologized for not introducing himself sooner and we exchanged pleasantries. He then gave me some advice about nutrition and health, emphasizing the importance of avoiding sugar and carbs. I told him I was familiar with the basics of nutrition and health and that I try to maintain a balanced diet.'"
      ]
     },
     "execution_count": 17,
     "metadata": {},
     "output_type": "execute_result"
    }
   ],
   "source": [
    "chat_1.summary"
   ]
  },
  {
   "cell_type": "code",
   "execution_count": 18,
   "id": "27e9beb5-09bf-4913-b311-dbcd4528ef9e",
   "metadata": {},
   "outputs": [],
   "source": [
    "chat_1.finish_chat()"
   ]
  },
  {
   "cell_type": "code",
   "execution_count": 21,
   "id": "31517dee-5dfd-42d3-beb6-9536b58e3ff9",
   "metadata": {},
   "outputs": [],
   "source": [
    "chat_2 = create_chat(john, situation=\"You are eating cake at home\", trigger=\"Buck Jones approached you\")"
   ]
  },
  {
   "cell_type": "code",
   "execution_count": 23,
   "id": "de6c14e1-3151-4420-955d-c1b6938dd284",
   "metadata": {},
   "outputs": [
    {
     "name": "stdout",
     "output_type": "stream",
     "text": [
      "\n",
      "\n",
      "\u001b[1m> Entering new AgentExecutor chain...\u001b[0m\n",
      "\n",
      "\u001b[32;1m\u001b[1;3m\u001b[0m\n",
      "\n",
      "\u001b[1m> Finished chain.\u001b[0m\n"
     ]
    },
    {
     "data": {
      "text/plain": [
       "'Hi, Buck. How are you?'"
      ]
     },
     "execution_count": 23,
     "metadata": {},
     "output_type": "execute_result"
    }
   ],
   "source": [
    "chat_2.say(\"Buck Jones\", \"Hi John\")"
   ]
  },
  {
   "cell_type": "code",
   "execution_count": 24,
   "id": "ad7cf604-52b4-4880-afab-a4fe7b8374dd",
   "metadata": {},
   "outputs": [
    {
     "name": "stdout",
     "output_type": "stream",
     "text": [
      "\n",
      "\n",
      "\u001b[1m> Entering new AgentExecutor chain...\u001b[0m\n",
      "\u001b[32;1m\u001b[1;3m\n",
      "{'tool': 'Think', 'tool_input': 'I should recall what Buck warned me about.'}\n",
      "\u001b[0m\u001b[36;1m\u001b[1;3mOK\u001b[0m\u001b[32;1m\u001b[1;3m\n",
      "{'tool': 'Recall', 'tool_input': 'What did Buck warn me about?'}\n",
      "\u001b[0m\u001b[33;1m\u001b[1;3m A stranger, Buck Jones, approached a person in a London pub and introduced himself as a dietary doctor. He gave advice about nutrition and health, emphasizing the importance of avoiding sugar and carbs. The person was familiar with the basics of nutrition and health and said they try to maintain a balanced diet.\u001b[0mAct: [Think] I should recall what Buck warned me about.\n",
      "Obs: OK\n",
      "Act: [Recall] What did Buck warn me about?\n",
      "Obs: A stranger, Buck Jones, approached a person in a London pub and introduced himself as a dietary doctor. He gave advice about nutrition and health, emphasizing the importance of avoiding sugar and carbs. The person was familiar with the basics of nutrition and health and said they try to maintain a balanced diet.\n",
      "\u001b[32;1m\u001b[1;3m\u001b[0m\n",
      "\n",
      "\u001b[1m> Finished chain.\u001b[0m\n"
     ]
    },
    {
     "data": {
      "text/plain": [
       "\"Yes, you did warn me about avoiding sugar and carbs. I'm eating cake as a treat though.\""
      ]
     },
     "execution_count": 24,
     "metadata": {},
     "output_type": "execute_result"
    }
   ],
   "source": [
    "chat_2.say(\"Buck Jones\", \"What are you doing? Did I not warn you about that already?\")"
   ]
  }
 ],
 "metadata": {
  "kernelspec": {
   "display_name": "Python 3 (ipykernel)",
   "language": "python",
   "name": "python3"
  },
  "language_info": {
   "codemirror_mode": {
    "name": "ipython",
    "version": 3
   },
   "file_extension": ".py",
   "mimetype": "text/x-python",
   "name": "python",
   "nbconvert_exporter": "python",
   "pygments_lexer": "ipython3",
   "version": "3.9.17"
  }
 },
 "nbformat": 4,
 "nbformat_minor": 5
}
